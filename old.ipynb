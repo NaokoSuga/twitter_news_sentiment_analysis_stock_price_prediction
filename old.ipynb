{
 "cells": [
  {
   "cell_type": "code",
   "execution_count": 40,
   "metadata": {},
   "outputs": [],
   "source": [
    "import warnings\n",
    "warnings.filterwarnings('ignore')\n",
    "\n",
    "import pandas as pd\n",
    "from pandas import Series\n",
    "import numpy as np\n",
    "\n",
    "import matplotlib.pylab as plt\n",
    "%matplotlib inline\n",
    "\n",
    "from matplotlib.pylab import rcParams\n",
    "rcParams['figure.figsize'] = 15, 6\n",
    "import re\n",
    "from statsmodels.tsa.stattools import adfuller\n",
    "from statsmodels.tsa.seasonal import seasonal_decompose\n",
    "from statsmodels.graphics.tsaplots import plot_acf\n",
    "from statsmodels.graphics.tsaplots import plot_pacf\n",
    "import statsmodels.api as sm\n",
    "import itertools"
   ]
  },
  {
   "cell_type": "code",
   "execution_count": 123,
   "metadata": {},
   "outputs": [
    {
     "data": {
      "text/html": [
       "<script>\n",
       "code_show=true; \n",
       "function code_toggle() {\n",
       " if (code_show){\n",
       " $('div.input').hide();\n",
       " } else {\n",
       " $('div.input').show();\n",
       " }\n",
       " code_show = !code_show\n",
       "} \n",
       "$( document ).ready(code_toggle);\n",
       "</script>\n",
       "*The raw code for this Jupyter notebook is by default hidden for easier reading.\n",
       "To toggle on/off the raw code, click <a href=\"javascript:code_toggle()\">here</a>."
      ],
      "text/plain": [
       "<IPython.core.display.HTML object>"
      ]
     },
     "execution_count": 123,
     "metadata": {},
     "output_type": "execute_result"
    }
   ],
   "source": [
    "from IPython.display import HTML\n",
    "HTML('''<script>\n",
    "code_show=true; \n",
    "function code_toggle() {\n",
    " if (code_show){\n",
    " $('div.input').hide();\n",
    " } else {\n",
    " $('div.input').show();\n",
    " }\n",
    " code_show = !code_show\n",
    "} \n",
    "$( document ).ready(code_toggle);\n",
    "</script>\n",
    "*The raw code for this Jupyter notebook is by default hidden for easier reading.\n",
    "To toggle on/off the raw code, click <a href=\"javascript:code_toggle()\">here</a>.''')"
   ]
  },
  {
   "cell_type": "code",
   "execution_count": 50,
   "metadata": {},
   "outputs": [],
   "source": [
    "import pandas as pd\n",
    "import matplotlib.pyplot as plt\n",
    "from pandas import Series\n",
    "import numpy as np\n",
    "import itertools\n",
    "import matplotlib.pylab as plt\n",
    "%matplotlib inline\n",
    "import re\n",
    "from statsmodels.tsa.stattools import adfuller\n",
    "from statsmodels.tsa.seasonal import seasonal_decompose\n",
    "from statsmodels.graphics.tsaplots import plot_acf\n",
    "from statsmodels.graphics.tsaplots import plot_pacf\n",
    "import statsmodels.api as sm\n",
    "import itertools\n",
    "from matplotlib.pylab import rcParams\n",
    "rcParams['figure.figsize'] = 15, 6"
   ]
  },
  {
   "cell_type": "code",
   "execution_count": 63,
   "metadata": {},
   "outputs": [],
   "source": [
    "index_for_df = [pd.to_datetime('2018-09-04 10:15:00')+ datetime.timedelta(minutes=5*x) for x in range(0, 72)]"
   ]
  },
  {
   "cell_type": "code",
   "execution_count": 64,
   "metadata": {},
   "outputs": [],
   "source": [
    "def get_all_predictions(dataframe):\n",
    "    pred_df = pd.DataFrame(index = index_for_df)\n",
    "    p = d = q = range(0, 2)\n",
    "    pdq = list(itertools.product(p, d, q))\n",
    "    pdqs = [(x[0], x[1], x[2], 1) for x in list(itertools.product(p, d, q))]\n",
    "    df = dataframe.drop('5. volume', axis = 1)\n",
    "    for metric in df.columns:\n",
    "        ans = []\n",
    "        for comb in pdq:\n",
    "            for combs in pdqs:\n",
    "                try:\n",
    "                    mod = sm.tsa.statespace.SARIMAX(dataframe[metric],\n",
    "                                            order=comb,\n",
    "                                            seasonal_order=combs,\n",
    "                                            enforce_stationarity=False,\n",
    "                                            enforce_invertibility=False)\n",
    "                    output = mod.fit()\n",
    "                    ans.append([comb, combs, output.aic])\n",
    "                except:\n",
    "                    continue\n",
    "        ans_df = pd.DataFrame(ans, columns=['pdq', 'pdqs', 'aic'])\n",
    "        ARIMA_MODEL = sm.tsa.statespace.SARIMAX(dataframe[metric],\n",
    "                                print(ans_df),\n",
    "                                order=ans_df.loc[ans_df['aic'].idxmin()][0],\n",
    "                                seasonal_order=ans_df.loc[ans_df['aic'].idxmin()][1],\n",
    "                                enforce_stationarity=False,\n",
    "                                enforce_invertibility=False)\n",
    "        output = ARIMA_MODEL.fit()\n",
    "        pred = output.get_prediction(start=pd.to_datetime('2018-09-04 10:15:00'), end=pd.to_datetime('2018-09-04 15:55:00'),dynamic=False)\n",
    "        predictions = pd.DataFrame(pred.predicted_mean)\n",
    "        pred_df[metric] = predictions\n",
    "    return pred_df"
   ]
  },
  {
   "cell_type": "code",
   "execution_count": 18,
   "metadata": {},
   "outputs": [],
   "source": [
    "# index_for_df = apple.index[(apple.index < '2018-08-31 15:55:00') & (apple.index > '2018-08-31 09:55:00')]"
   ]
  },
  {
   "cell_type": "code",
   "execution_count": 20,
   "metadata": {},
   "outputs": [],
   "source": [
    "import datetime"
   ]
  },
  {
   "cell_type": "code",
   "execution_count": 42,
   "metadata": {},
   "outputs": [],
   "source": [
    "import alpha_vantage\n",
    "from alpha_vantage.timeseries import TimeSeries\n",
    "stock = TimeSeries(key='1250F9WWA3Z77BIK')"
   ]
  },
  {
   "cell_type": "code",
   "execution_count": 43,
   "metadata": {},
   "outputs": [],
   "source": [
    "fb_sept, meta_sept = stock.get_intraday(symbol ='FB', interval='5min')"
   ]
  },
  {
   "cell_type": "code",
   "execution_count": 44,
   "metadata": {},
   "outputs": [],
   "source": [
    "fb_today = pd.DataFrame(fb_sept)\n",
    "fb_today = pd.DataFrame(fb_today.T)\n",
    "fb_today.index = pd.to_datetime(fb_today.index)"
   ]
  },
  {
   "cell_type": "code",
   "execution_count": 45,
   "metadata": {},
   "outputs": [],
   "source": [
    "fb_today_graph = fb_today[(fb_today.index > '2018-09-04')]"
   ]
  },
  {
   "cell_type": "code",
   "execution_count": 11,
   "metadata": {},
   "outputs": [],
   "source": [
    "nflx = pd.read_csv('./csv/nflx_daily_stock.csv', index_col='Unnamed: 0')\n",
    "fb = pd.read_csv('./csv/fb_daily_stock.csv', index_col='Unnamed: 0')\n",
    "apple = pd.read_csv('./csv/apple_daily_stock.csv', index_col='Unnamed: 0')\n",
    "fb_prediction_df = pd.read_csv('./csv/fb_predictions.csv', index_col='Unnamed: 0')"
   ]
  },
  {
   "cell_type": "code",
   "execution_count": 65,
   "metadata": {},
   "outputs": [
    {
     "name": "stdout",
     "output_type": "stream",
     "text": [
      "Empty DataFrame\n",
      "Columns: [pdq, pdqs, aic]\n",
      "Index: []\n"
     ]
    },
    {
     "ename": "TypeError",
     "evalue": "reduction operation 'argmin' not allowed for this dtype",
     "output_type": "error",
     "traceback": [
      "\u001b[0;31m---------------------------------------------------------------------------\u001b[0m",
      "\u001b[0;31mTypeError\u001b[0m                                 Traceback (most recent call last)",
      "\u001b[0;32m<ipython-input-65-1d1182541214>\u001b[0m in \u001b[0;36m<module>\u001b[0;34m()\u001b[0m\n\u001b[0;32m----> 1\u001b[0;31m \u001b[0mfb_today_pred\u001b[0m \u001b[0;34m=\u001b[0m \u001b[0mget_all_predictions\u001b[0m\u001b[0;34m(\u001b[0m\u001b[0mfb_today\u001b[0m\u001b[0;34m)\u001b[0m\u001b[0;34m\u001b[0m\u001b[0m\n\u001b[0m",
      "\u001b[0;32m<ipython-input-64-db40ded7b846>\u001b[0m in \u001b[0;36mget_all_predictions\u001b[0;34m(dataframe)\u001b[0m\n\u001b[1;32m     23\u001b[0m         ARIMA_MODEL = sm.tsa.statespace.SARIMAX(dataframe[metric],\n\u001b[1;32m     24\u001b[0m                                 \u001b[0mprint\u001b[0m\u001b[0;34m(\u001b[0m\u001b[0mans_df\u001b[0m\u001b[0;34m)\u001b[0m\u001b[0;34m,\u001b[0m\u001b[0;34m\u001b[0m\u001b[0m\n\u001b[0;32m---> 25\u001b[0;31m                                 \u001b[0morder\u001b[0m\u001b[0;34m=\u001b[0m\u001b[0mans_df\u001b[0m\u001b[0;34m.\u001b[0m\u001b[0mloc\u001b[0m\u001b[0;34m[\u001b[0m\u001b[0mans_df\u001b[0m\u001b[0;34m[\u001b[0m\u001b[0;34m'aic'\u001b[0m\u001b[0;34m]\u001b[0m\u001b[0;34m.\u001b[0m\u001b[0midxmin\u001b[0m\u001b[0;34m(\u001b[0m\u001b[0;34m)\u001b[0m\u001b[0;34m]\u001b[0m\u001b[0;34m[\u001b[0m\u001b[0;36m0\u001b[0m\u001b[0;34m]\u001b[0m\u001b[0;34m,\u001b[0m\u001b[0;34m\u001b[0m\u001b[0m\n\u001b[0m\u001b[1;32m     26\u001b[0m                                 \u001b[0mseasonal_order\u001b[0m\u001b[0;34m=\u001b[0m\u001b[0mans_df\u001b[0m\u001b[0;34m.\u001b[0m\u001b[0mloc\u001b[0m\u001b[0;34m[\u001b[0m\u001b[0mans_df\u001b[0m\u001b[0;34m[\u001b[0m\u001b[0;34m'aic'\u001b[0m\u001b[0;34m]\u001b[0m\u001b[0;34m.\u001b[0m\u001b[0midxmin\u001b[0m\u001b[0;34m(\u001b[0m\u001b[0;34m)\u001b[0m\u001b[0;34m]\u001b[0m\u001b[0;34m[\u001b[0m\u001b[0;36m1\u001b[0m\u001b[0;34m]\u001b[0m\u001b[0;34m,\u001b[0m\u001b[0;34m\u001b[0m\u001b[0m\n\u001b[1;32m     27\u001b[0m                                 \u001b[0menforce_stationarity\u001b[0m\u001b[0;34m=\u001b[0m\u001b[0;32mFalse\u001b[0m\u001b[0;34m,\u001b[0m\u001b[0;34m\u001b[0m\u001b[0m\n",
      "\u001b[0;32m/anaconda3/lib/python3.6/site-packages/pandas/core/series.py\u001b[0m in \u001b[0;36midxmin\u001b[0;34m(self, axis, skipna, *args, **kwargs)\u001b[0m\n\u001b[1;32m   1711\u001b[0m         \"\"\"\n\u001b[1;32m   1712\u001b[0m         \u001b[0mskipna\u001b[0m \u001b[0;34m=\u001b[0m \u001b[0mnv\u001b[0m\u001b[0;34m.\u001b[0m\u001b[0mvalidate_argmin_with_skipna\u001b[0m\u001b[0;34m(\u001b[0m\u001b[0mskipna\u001b[0m\u001b[0;34m,\u001b[0m \u001b[0margs\u001b[0m\u001b[0;34m,\u001b[0m \u001b[0mkwargs\u001b[0m\u001b[0;34m)\u001b[0m\u001b[0;34m\u001b[0m\u001b[0m\n\u001b[0;32m-> 1713\u001b[0;31m         \u001b[0mi\u001b[0m \u001b[0;34m=\u001b[0m \u001b[0mnanops\u001b[0m\u001b[0;34m.\u001b[0m\u001b[0mnanargmin\u001b[0m\u001b[0;34m(\u001b[0m\u001b[0mcom\u001b[0m\u001b[0;34m.\u001b[0m\u001b[0m_values_from_object\u001b[0m\u001b[0;34m(\u001b[0m\u001b[0mself\u001b[0m\u001b[0;34m)\u001b[0m\u001b[0;34m,\u001b[0m \u001b[0mskipna\u001b[0m\u001b[0;34m=\u001b[0m\u001b[0mskipna\u001b[0m\u001b[0;34m)\u001b[0m\u001b[0;34m\u001b[0m\u001b[0m\n\u001b[0m\u001b[1;32m   1714\u001b[0m         \u001b[0;32mif\u001b[0m \u001b[0mi\u001b[0m \u001b[0;34m==\u001b[0m \u001b[0;34m-\u001b[0m\u001b[0;36m1\u001b[0m\u001b[0;34m:\u001b[0m\u001b[0;34m\u001b[0m\u001b[0m\n\u001b[1;32m   1715\u001b[0m             \u001b[0;32mreturn\u001b[0m \u001b[0mnp\u001b[0m\u001b[0;34m.\u001b[0m\u001b[0mnan\u001b[0m\u001b[0;34m\u001b[0m\u001b[0m\n",
      "\u001b[0;32m/anaconda3/lib/python3.6/site-packages/pandas/core/nanops.py\u001b[0m in \u001b[0;36m_f\u001b[0;34m(*args, **kwargs)\u001b[0m\n\u001b[1;32m     72\u001b[0m             \u001b[0;32mif\u001b[0m \u001b[0many\u001b[0m\u001b[0;34m(\u001b[0m\u001b[0mself\u001b[0m\u001b[0;34m.\u001b[0m\u001b[0mcheck\u001b[0m\u001b[0;34m(\u001b[0m\u001b[0mobj\u001b[0m\u001b[0;34m)\u001b[0m \u001b[0;32mfor\u001b[0m \u001b[0mobj\u001b[0m \u001b[0;32min\u001b[0m \u001b[0mobj_iter\u001b[0m\u001b[0;34m)\u001b[0m\u001b[0;34m:\u001b[0m\u001b[0;34m\u001b[0m\u001b[0m\n\u001b[1;32m     73\u001b[0m                 \u001b[0mmsg\u001b[0m \u001b[0;34m=\u001b[0m \u001b[0;34m'reduction operation {name!r} not allowed for this dtype'\u001b[0m\u001b[0;34m\u001b[0m\u001b[0m\n\u001b[0;32m---> 74\u001b[0;31m                 \u001b[0;32mraise\u001b[0m \u001b[0mTypeError\u001b[0m\u001b[0;34m(\u001b[0m\u001b[0mmsg\u001b[0m\u001b[0;34m.\u001b[0m\u001b[0mformat\u001b[0m\u001b[0;34m(\u001b[0m\u001b[0mname\u001b[0m\u001b[0;34m=\u001b[0m\u001b[0mf\u001b[0m\u001b[0;34m.\u001b[0m\u001b[0m__name__\u001b[0m\u001b[0;34m.\u001b[0m\u001b[0mreplace\u001b[0m\u001b[0;34m(\u001b[0m\u001b[0;34m'nan'\u001b[0m\u001b[0;34m,\u001b[0m \u001b[0;34m''\u001b[0m\u001b[0;34m)\u001b[0m\u001b[0;34m)\u001b[0m\u001b[0;34m)\u001b[0m\u001b[0;34m\u001b[0m\u001b[0m\n\u001b[0m\u001b[1;32m     75\u001b[0m             \u001b[0;32mtry\u001b[0m\u001b[0;34m:\u001b[0m\u001b[0;34m\u001b[0m\u001b[0m\n\u001b[1;32m     76\u001b[0m                 \u001b[0;32mwith\u001b[0m \u001b[0mnp\u001b[0m\u001b[0;34m.\u001b[0m\u001b[0merrstate\u001b[0m\u001b[0;34m(\u001b[0m\u001b[0minvalid\u001b[0m\u001b[0;34m=\u001b[0m\u001b[0;34m'ignore'\u001b[0m\u001b[0;34m)\u001b[0m\u001b[0;34m:\u001b[0m\u001b[0;34m\u001b[0m\u001b[0m\n",
      "\u001b[0;31mTypeError\u001b[0m: reduction operation 'argmin' not allowed for this dtype"
     ]
    }
   ],
   "source": [
    "fb_today_pred = get_all_predictions(fb_today)"
   ]
  },
  {
   "cell_type": "markdown",
   "metadata": {},
   "source": [
    "# Candlestick Charts 8-31-2018"
   ]
  },
  {
   "cell_type": "code",
   "execution_count": 6,
   "metadata": {},
   "outputs": [
    {
     "data": {
      "text/html": [
       "<iframe id=\"igraph\" scrolling=\"no\" style=\"border:none;\" seamless=\"seamless\" src=\"https://plot.ly/~mrethana/40.embed\" height=\"525px\" width=\"100%\"></iframe>"
      ],
      "text/plain": [
       "<plotly.tools.PlotlyDisplay object>"
      ]
     },
     "execution_count": 6,
     "metadata": {},
     "output_type": "execute_result"
    }
   ],
   "source": [
    "import plotly.plotly as py\n",
    "import plotly.graph_objs as go\n",
    "\n",
    "from datetime import datetime\n",
    "\n",
    "# ts_close = pd.DataFrame(fb['4. close'])\n",
    "# ts_close = ts_close['4. close'].astype(float)\n",
    "# rolmean = ts_close.rolling(window=6).mean()\n",
    "# orig_close = plt.plot(ts, color='blue',label='Original')\n",
    "# mean_close = plt.plot(rolmean, color='red', label='Rolling Mean')\n",
    "#     std = plt.plot(rolstd, color='black', label = 'Rolling Std')\n",
    "# plt.legend(loc='best')\n",
    "# plt.title('Rolling Mean & Standard Deviation')\n",
    "# plt.show(block=False)\n",
    "\n",
    "\n",
    "layout = {'xaxis': {'rangeslider':{'visible':False}},\n",
    "    'title': 'Facebook Stock 08-31-2018',\n",
    "    'yaxis': {'title': 'Stock Price'},'shapes': [{\n",
    "        'x0': '2018-08-31 14:00:00', 'x1': '2018-08-31 14:00:00',\n",
    "        'y0': 0, 'y1': 1, 'xref': 'x', 'yref': 'paper',\n",
    "        'line': {'color': 'rgb(30,30,30)', 'width': 1}\n",
    "    }],'annotations': [{\n",
    "        'x': '2018-08-31 14:00:00', 'y': 0.05, 'xref': 'x', 'yref': 'paper',\n",
    "        'showarrow': False, 'xanchor': 'left',\n",
    "        'text': 'Predictions Begin'\n",
    "    }]}\n",
    "\n",
    "\n",
    "trace = go.Candlestick(name = 'Price',x=nflx.index,\n",
    "                       open=fb_today_graph['1. open'],\n",
    "                       high=fb_today_graph['2. high'],\n",
    "                       low=fb_today_graph['3. low'],\n",
    "                       close=fb_today_graph['4. close'],\n",
    "                       increasing=dict(line=dict(color= 'Blue')),\n",
    "                       decreasing=dict(line=dict(color= 'Silver')))\n",
    "\n",
    "trace2 = go.Candlestick(name = 'Predicted Price',x=fb_prediction_df.index,\n",
    "                       open=fb_prediction_df.open_pred,\n",
    "                       high=fb_prediction_df.high_pred,\n",
    "                       low=fb_prediction_df.low_pred,\n",
    "                       close=fb_prediction_df.close_pred,\n",
    "                       increasing=dict(line=dict(color= 'Green')),\n",
    "                       decreasing=dict(line=dict(color= 'Red')))\n",
    "\n",
    "# trace2 = go.Scatter(name = 'Close Price MA',\n",
    "#     x = rolmean.index,\n",
    "#     y = rolmean.values, line = dict(\n",
    "#         color = ('red'), o))\n",
    "\n",
    "data = [trace, trace2]\n",
    "fig = dict(data=data, layout=layout)\n",
    "py.iplot(fig, filename='plot from API (15)')"
   ]
  },
  {
   "cell_type": "code",
   "execution_count": 93,
   "metadata": {},
   "outputs": [],
   "source": [
    "apple_prediction_df = get_all_predictions(apple)"
   ]
  },
  {
   "cell_type": "code",
   "execution_count": 98,
   "metadata": {},
   "outputs": [],
   "source": [
    "apple_prediction_df.to_csv('apple_predictions.csv')"
   ]
  },
  {
   "cell_type": "code",
   "execution_count": 97,
   "metadata": {
    "scrolled": false
   },
   "outputs": [
    {
     "data": {
      "text/html": [
       "<iframe id=\"igraph\" scrolling=\"no\" style=\"border:none;\" seamless=\"seamless\" src=\"https://plot.ly/~mrethana/42.embed\" height=\"525px\" width=\"100%\"></iframe>"
      ],
      "text/plain": [
       "<plotly.tools.PlotlyDisplay object>"
      ]
     },
     "execution_count": 97,
     "metadata": {},
     "output_type": "execute_result"
    }
   ],
   "source": [
    "import plotly.plotly as py\n",
    "import plotly.graph_objs as go\n",
    "\n",
    "from datetime import datetime\n",
    "\n",
    "\n",
    "layout = {'xaxis': {'rangeslider':{'visible':False}},\n",
    "    'title': 'Apple Stock 08-31-2018',\n",
    "    'yaxis': {'title': 'Stock Price'},'shapes': [{\n",
    "        'x0': '2018-08-31 14:00:00', 'x1': '2018-08-31 14:00:00',\n",
    "        'y0': 0, 'y1': 1, 'xref': 'x', 'yref': 'paper',\n",
    "        'line': {'color': 'rgb(30,30,30)', 'width': 1}\n",
    "    }],'annotations': [{\n",
    "        'x': '2018-08-31 14:00:00', 'y': 0.05, 'xref': 'x', 'yref': 'paper',\n",
    "        'showarrow': False, 'xanchor': 'left',\n",
    "        'text': 'Predictions Begin'\n",
    "    }]}\n",
    "\n",
    "\n",
    "trace = go.Candlestick(name = 'Actual Price',x=apple.index,\n",
    "                       open=apple['1. open'],\n",
    "                       high=apple['2. high'],\n",
    "                       low=apple['3. low'],\n",
    "                       close=apple['4. close'],\n",
    "                       increasing=dict(line=dict(color= 'Black')),\n",
    "                       decreasing=dict(line=dict(color= 'Silver')))\n",
    "\n",
    "trace2 = go.Candlestick(name = 'Predicted Price',x=apple_prediction_df.index,\n",
    "                       open=apple_prediction_df['1. open'],\n",
    "                       high=apple_prediction_df['2. high'],\n",
    "                       low=apple_prediction_df['3. low'],\n",
    "                       close=apple_prediction_df['4. close'],\n",
    "                       increasing=dict(line=dict(color= 'Green')),\n",
    "                       decreasing=dict(line=dict(color= 'Red')))\n",
    "\n",
    "\n",
    "# trace2 = go.Scatter(name = 'Close Price MA',\n",
    "#     x = rolmean.index,\n",
    "#     y = rolmean.values, line = dict(\n",
    "#         color = ('red'), o))\n",
    "\n",
    "data = [trace,trace2]\n",
    "fig = dict(data=data, layout=layout)\n",
    "py.iplot(fig, filename='plot from API (16)')"
   ]
  },
  {
   "cell_type": "code",
   "execution_count": 118,
   "metadata": {},
   "outputs": [],
   "source": [
    "netflix_prediction_df = get_all_predictions(nflx)"
   ]
  },
  {
   "cell_type": "code",
   "execution_count": 121,
   "metadata": {},
   "outputs": [],
   "source": [
    "netflix_prediction_df.to_csv('netflix_predictions.csv')"
   ]
  },
  {
   "cell_type": "code",
   "execution_count": 120,
   "metadata": {},
   "outputs": [
    {
     "data": {
      "text/html": [
       "<iframe id=\"igraph\" scrolling=\"no\" style=\"border:none;\" seamless=\"seamless\" src=\"https://plot.ly/~mrethana/46.embed\" height=\"525px\" width=\"100%\"></iframe>"
      ],
      "text/plain": [
       "<plotly.tools.PlotlyDisplay object>"
      ]
     },
     "execution_count": 120,
     "metadata": {},
     "output_type": "execute_result"
    }
   ],
   "source": [
    "import plotly.plotly as py\n",
    "import plotly.graph_objs as go\n",
    "\n",
    "from datetime import datetime\n",
    "\n",
    "layout = {'xaxis': {'rangeslider':{'visible':False}},\n",
    "    'title': 'Netflix Stock 08-31-2018',\n",
    "    'yaxis': {'title': 'Stock Price'},'shapes': [{\n",
    "        'x0': '2018-08-31 14:00:00', 'x1': '2018-08-31 14:00:00',\n",
    "        'y0': 0, 'y1': 1, 'xref': 'x', 'yref': 'paper',\n",
    "        'line': {'color': 'rgb(30,30,30)', 'width': 1}\n",
    "    }],'annotations': [{\n",
    "        'x': '2018-08-31 14:00:00', 'y': 0.05, 'xref': 'x', 'yref': 'paper',\n",
    "        'showarrow': False, 'xanchor': 'left',\n",
    "        'text': 'Predictions Begin'\n",
    "    }]}\n",
    "\n",
    "trace = go.Candlestick(name = 'Actual Price',x=nflx.index,\n",
    "                       open=nflx['1. open'],\n",
    "                       high=nflx['2. high'],\n",
    "                       low=nflx['3. low'],\n",
    "                       close=nflx['4. close'],\n",
    "                       increasing=dict(line=dict(color= 'Red')),\n",
    "                       decreasing=dict(line=dict(color= 'Black')))\n",
    "\n",
    "trace2 = go.Candlestick(name = 'Predicted Price',x=netflix_prediction_df.index,\n",
    "                       open=netflix_prediction_df['1. open'],\n",
    "                       high=netflix_prediction_df['2. high'],\n",
    "                       low=netflix_prediction_df['3. low'],\n",
    "                       close=netflix_prediction_df['4. close'],\n",
    "                       increasing=dict(line=dict(color= 'Green')),\n",
    "                       decreasing=dict(line=dict(color= 'Silver')))\n",
    "\n",
    "data = [trace, trace2]\n",
    "fig = dict(data=data, layout=layout)\n",
    "py.iplot(fig, filename='plot from API (18)')"
   ]
  }
 ],
 "metadata": {
  "kernelspec": {
   "display_name": "Python 3",
   "language": "python",
   "name": "python3"
  },
  "language_info": {
   "codemirror_mode": {
    "name": "ipython",
    "version": 3
   },
   "file_extension": ".py",
   "mimetype": "text/x-python",
   "name": "python",
   "nbconvert_exporter": "python",
   "pygments_lexer": "ipython3",
   "version": "3.6.5"
  }
 },
 "nbformat": 4,
 "nbformat_minor": 2
}
