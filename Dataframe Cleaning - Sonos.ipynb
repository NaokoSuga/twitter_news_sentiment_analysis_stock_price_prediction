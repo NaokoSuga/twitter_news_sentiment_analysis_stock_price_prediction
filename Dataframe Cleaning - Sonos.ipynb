{
 "cells": [
  {
   "cell_type": "code",
   "execution_count": 26,
   "metadata": {},
   "outputs": [],
   "source": [
    "import pandas as pd\n",
    "import datetime\n",
    "import numpy as np"
   ]
  },
  {
   "cell_type": "code",
   "execution_count": 27,
   "metadata": {},
   "outputs": [],
   "source": [
    "# importing tweet csv files and cleaning them\n",
    "sonos_tweets_df = pd.read_csv('sonos_tweets.csv')\n",
    "sonos_tweets_df['time_stamp'] = pd.to_datetime(sonos_tweets_df['time_stamp'])\n",
    "sonos_tweets_df['time_stamp'] = sonos_tweets_df['time_stamp'].dt.round('30min')\n",
    "sonos_tweets_df_ = sonos_tweets_df.set_index(['time_stamp'])\n",
    "\n",
    "# reading stock.csv and cleaning the df\n",
    "running_stocks_thirty = pd.read_csv('stock.csv', index_col = 0)\n",
    "running_stocks_thirty.index = pd.to_datetime(running_stocks_thirty.index)\n",
    "\n",
    "# updating stock data\n",
    "running_stocks_thirty = running_stocks_thirty[running_stocks_thirty.index.day >= 24].sort_index()\n",
    "running_stocks_thirty['increase_decrease'] = running_stocks_thirty['4. close'] - running_stocks_thirty['1. open']\n",
    "running_stocks_thirty['up_down'] = np.where(running_stocks_thirty['increase_decrease']>=0, 1, 0)\n",
    "running_stocks_thirty['movement(%)'] = np.round(((running_stocks_thirty['4. close'] - running_stocks_thirty['1. open'])/running_stocks_thirty['4. close'])*100, 2)\n",
    "\n",
    "# reading tech indicators\n",
    "sonos_tech_indic = pd.read_csv('sonos_tech_indicators.csv', index_col = 0 )\n",
    "sonos_tech_indic.index = pd.to_datetime(sonos_tech_indic.index)\n",
    "sonos_tech_indic_ = sonos_tech_indic[sonos_tech_indic.index.day >= 24]\n",
    "sonos_tech_indic_df = sonos_tech_indic_[sonos_tech_indic_.index.day < 30]"
   ]
  },
  {
   "cell_type": "code",
   "execution_count": 28,
   "metadata": {},
   "outputs": [],
   "source": [
    "# drop all the tweets before the 24th\n",
    "sonos_tweets_df = sonos_tweets_df_[sonos_tweets_df_.index.day >= 24]\n",
    "sonos_tweets_master_df = sonos_tweets_df.drop(['t_id', 'text', 'Unnamed: 0'], axis = 1)"
   ]
  },
  {
   "cell_type": "code",
   "execution_count": 29,
   "metadata": {},
   "outputs": [],
   "source": [
    "sonos_tweets_df_24 = sonos_tweets_master_df[sonos_tweets_master_df.index.day ==24]\n",
    "sonos_tweets_df_25 = sonos_tweets_master_df[sonos_tweets_master_df.index.day ==25]\n",
    "sonos_tweets_df_26 = sonos_tweets_master_df[sonos_tweets_master_df.index.day ==26]\n",
    "sonos_tweets_df_27 = sonos_tweets_master_df[sonos_tweets_master_df.index.day ==27]\n",
    "sonos_tweets_df_28 = sonos_tweets_master_df[sonos_tweets_master_df.index.day ==28]\n",
    "sonos_tweets_df_29 = sonos_tweets_master_df[sonos_tweets_master_df.index.day ==29]"
   ]
  },
  {
   "cell_type": "code",
   "execution_count": 30,
   "metadata": {},
   "outputs": [],
   "source": [
    "# seperate during/after market hrs\n",
    "def during_after(df):\n",
    "    df_during = df.between_time('9:30', \"15:30\")\n",
    "    df_after = df.between_time('15:30', \"9:30\")\n",
    "    return df_during, df_after"
   ]
  },
  {
   "cell_type": "code",
   "execution_count": 31,
   "metadata": {},
   "outputs": [],
   "source": [
    "open_hours_tweets_24, after_hour_tweets_24 = during_after(sonos_tweets_df_24)\n",
    "open_hours_tweets_25, after_hour_tweets_25 = during_after(sonos_tweets_df_25)\n",
    "open_hours_tweets_26, after_hour_tweets_26 = during_after(sonos_tweets_df_26)\n",
    "open_hours_tweets_27, after_hour_tweets_27 = during_after(sonos_tweets_df_27)\n",
    "open_hours_tweets_28, after_hour_tweets_28 = during_after(sonos_tweets_df_28)\n",
    "open_hours_tweets_29, after_hour_tweets_29 = during_after(sonos_tweets_df_29)"
   ]
  },
  {
   "cell_type": "code",
   "execution_count": 32,
   "metadata": {},
   "outputs": [],
   "source": [
    "# aggregate the scores \n",
    "def aggregate(df):\n",
    "    sent_avg = df.groupby(df.index).agg({'vader_sentiment': 'mean'}).rename(columns = {'vader_sentiment': 'sentiment_avg_30'}).shift()\n",
    "    sent_count = df.groupby(df.index).agg({'sentiment': 'value_counts'}).unstack().rename(columns = {'sentiment': 'sentiment_30'}).shift()\n",
    "    df_ = pd.concat([sent_avg, sent_count], axis = 1)\n",
    "    df_ini = df_.fillna(df_.mean())\n",
    "    df_hour_i = df_ini.shift().rolling(window=2, center = True, min_periods=2).mean().rename(columns = {'sentiment_avg_30': 'sentiment_avg_60'})\n",
    "    df_hour = df_hour_i.fillna(df_hour_i.mean())\n",
    "    df_two_hours_i = df_ini.shift(2).rolling(window=4, center = True, min_periods=4).mean().rename(columns = {'sentiment_avg_30': 'sentiment_avg_120'})\n",
    "    df_two_hours = df_two_hours_i.fillna(df_two_hours_i.mean())\n",
    "    df_all = pd.concat([df_ini, df_hour, df_two_hours], axis = 1)\n",
    "    return df_all"
   ]
  },
  {
   "cell_type": "code",
   "execution_count": 33,
   "metadata": {},
   "outputs": [],
   "source": [
    "open_hours_tweets_24 = aggregate(open_hours_tweets_24)\n",
    "open_hours_tweets_25 = aggregate(open_hours_tweets_25)\n",
    "open_hours_tweets_26 = aggregate(open_hours_tweets_26)\n",
    "open_hours_tweets_27 = aggregate(open_hours_tweets_27)\n",
    "open_hours_tweets_28 = aggregate(open_hours_tweets_28)\n",
    "open_hours_tweets_29 = aggregate(open_hours_tweets_29)"
   ]
  },
  {
   "cell_type": "code",
   "execution_count": 34,
   "metadata": {},
   "outputs": [],
   "source": [
    "# seperate night-before and morning-day-of market hrs\n",
    "def night_morning(df):\n",
    "    df_night = df.between_time('15:30', \"0:00\")\n",
    "    df_morning = df.between_time('0:00', \"9:30\")\n",
    "    df_night_avg = df_night.groupby(df_night.index.day).mean()\n",
    "    df_night_ct = df_night.groupby(df_night.index.day).agg({'sentiment': 'value_counts'}).unstack()\n",
    "    night_df = pd.concat([df_night_avg, df_night_ct], axis = 1)\n",
    "    night_df.columns = ['vader_sentiment_night', 'sent_neg, night_before', 'sent_neu, night_before', 'sent_pos, night_before']\n",
    "    df_morning_avg = df_morning.groupby(df_morning.index.day).mean()\n",
    "    df_morning_ct = df_morning.groupby(df_morning.index.day).agg({'sentiment': 'value_counts'}).unstack()\n",
    "    morning_df = pd.concat([df_morning_avg, df_morning_ct], axis = 1)\n",
    "#     morning_df.columns = ['vader_sentiment_morning', 'sent_neg, morning', 'sent_neu, morning', 'sent_pos, morning']\n",
    "    pd.to_datetime(morning_df.index)\n",
    "    pd.to_datetime(night_df.index)\n",
    "    return night_df, morning_df"
   ]
  },
  {
   "cell_type": "code",
   "execution_count": 35,
   "metadata": {},
   "outputs": [],
   "source": [
    "sonos_tweets_df_23 = sonos_tweets_df_[sonos_tweets_df_.index.day == 23]\n",
    "sonos_tweets_23_df = sonos_tweets_df_23.drop(['t_id', 'text', 'Unnamed: 0'], axis = 1)\n",
    "# sonos_tweets_23_night = sonos_tweets_23_df.between_time('15:30', \"9:30\")\n",
    "after_hour_tweets_24_night, after_hour_tweets_23_morning = night_morning(sonos_tweets_23_df)"
   ]
  },
  {
   "cell_type": "code",
   "execution_count": 36,
   "metadata": {},
   "outputs": [],
   "source": [
    "after_hour_tweets_25_night, after_hour_tweets_24_morning = night_morning(after_hour_tweets_24)\n",
    "after_hour_tweets_26_night, after_hour_tweets_25_morning = night_morning(after_hour_tweets_25)\n",
    "after_hour_tweets_27_night, after_hour_tweets_26_morning = night_morning(after_hour_tweets_26)\n",
    "after_hour_tweets_28_night, after_hour_tweets_27_morning = night_morning(after_hour_tweets_27)\n",
    "after_hour_tweets_29_night, after_hour_tweets_28_morning = night_morning(after_hour_tweets_28)\n",
    "after_hour_tweets_30_night, after_hour_tweets_29_morning = night_morning(after_hour_tweets_29)"
   ]
  },
  {
   "cell_type": "code",
   "execution_count": 37,
   "metadata": {},
   "outputs": [],
   "source": [
    "# update the index of the night df to the next day\n",
    "after_hour_tweets_24_night.index = [24]\n",
    "after_hour_tweets_25_night.index = [25]\n",
    "after_hour_tweets_26_night.index = [26]\n",
    "after_hour_tweets_27_night.index = [27]\n",
    "after_hour_tweets_28_night.index = [28]\n",
    "after_hour_tweets_29_night.index = [29]"
   ]
  },
  {
   "cell_type": "code",
   "execution_count": 38,
   "metadata": {},
   "outputs": [],
   "source": [
    "night_morning_24 = pd.concat([after_hour_tweets_24_night, after_hour_tweets_24_morning], axis = 1)\n",
    "night_morning_25 = pd.concat([after_hour_tweets_25_night, after_hour_tweets_25_morning], axis = 1)\n",
    "night_morning_26 = pd.concat([after_hour_tweets_26_night, after_hour_tweets_26_morning], axis = 1)\n",
    "night_morning_27 = pd.concat([after_hour_tweets_27_night, after_hour_tweets_27_morning], axis = 1)\n",
    "night_morning_28 = pd.concat([after_hour_tweets_28_night, after_hour_tweets_28_morning], axis = 1)\n",
    "night_morning_29 = pd.concat([after_hour_tweets_29_night, after_hour_tweets_29_morning], axis = 1)"
   ]
  },
  {
   "cell_type": "code",
   "execution_count": 39,
   "metadata": {},
   "outputs": [],
   "source": [
    "night_morning_28[night_morning_24.columns[-3]] = [0]\n",
    "night_morning_28[night_morning_24.columns[-2]] = [0]\n",
    "night_morning_25[night_morning_24.columns[-2]] = [0]"
   ]
  },
  {
   "cell_type": "code",
   "execution_count": null,
   "metadata": {},
   "outputs": [],
   "source": [
    "night_morning_28"
   ]
  },
  {
   "cell_type": "code",
   "execution_count": null,
   "metadata": {},
   "outputs": [],
   "source": [
    "list_of_columns"
   ]
  },
  {
   "cell_type": "code",
   "execution_count": null,
   "metadata": {},
   "outputs": [],
   "source": [
    "np.full((len(open_hours_tweets_24),1), night_morning_24[list_of_columns[-1]].values[0])"
   ]
  },
  {
   "cell_type": "code",
   "execution_count": null,
   "metadata": {},
   "outputs": [],
   "source": [
    "night_morning_2"
   ]
  },
  {
   "cell_type": "code",
   "execution_count": 40,
   "metadata": {},
   "outputs": [],
   "source": [
    "list_of_columns = list(night_morning_25.columns)\n",
    "def concat_main_night_morning(open_hour_df, night_morning_df):\n",
    "    for i in range(0,len(list_of_columns)):\n",
    "        open_hour_df[list_of_columns[i]] = np.full((len(open_hour_df),1), night_morning_df[list_of_columns[i]].values[0])"
   ]
  },
  {
   "cell_type": "code",
   "execution_count": 41,
   "metadata": {},
   "outputs": [
    {
     "ename": "TypeError",
     "evalue": "Cannot convert bool to numpy.ndarray",
     "output_type": "error",
     "traceback": [
      "\u001b[0;31m---------------------------------------------------------------------------\u001b[0m",
      "\u001b[0;31mTypeError\u001b[0m                                 Traceback (most recent call last)",
      "\u001b[0;32m<ipython-input-41-e5c4e108b4ed>\u001b[0m in \u001b[0;36m<module>\u001b[0;34m()\u001b[0m\n\u001b[0;32m----> 1\u001b[0;31m \u001b[0mconcat_main_night_morning\u001b[0m\u001b[0;34m(\u001b[0m\u001b[0mopen_hours_tweets_24\u001b[0m\u001b[0;34m,\u001b[0m \u001b[0mnight_morning_24\u001b[0m\u001b[0;34m)\u001b[0m\u001b[0;34m\u001b[0m\u001b[0m\n\u001b[0m\u001b[1;32m      2\u001b[0m \u001b[0mconcat_main_night_morning\u001b[0m\u001b[0;34m(\u001b[0m\u001b[0mopen_hours_tweets_25\u001b[0m\u001b[0;34m,\u001b[0m \u001b[0mnight_morning_25\u001b[0m\u001b[0;34m)\u001b[0m\u001b[0;34m\u001b[0m\u001b[0m\n\u001b[1;32m      3\u001b[0m \u001b[0mconcat_main_night_morning\u001b[0m\u001b[0;34m(\u001b[0m\u001b[0mopen_hours_tweets_26\u001b[0m\u001b[0;34m,\u001b[0m \u001b[0mnight_morning_26\u001b[0m\u001b[0;34m)\u001b[0m\u001b[0;34m\u001b[0m\u001b[0m\n\u001b[1;32m      4\u001b[0m \u001b[0mconcat_main_night_morning\u001b[0m\u001b[0;34m(\u001b[0m\u001b[0mopen_hours_tweets_27\u001b[0m\u001b[0;34m,\u001b[0m \u001b[0mnight_morning_27\u001b[0m\u001b[0;34m)\u001b[0m\u001b[0;34m\u001b[0m\u001b[0m\n\u001b[1;32m      5\u001b[0m \u001b[0mconcat_main_night_morning\u001b[0m\u001b[0;34m(\u001b[0m\u001b[0mopen_hours_tweets_28\u001b[0m\u001b[0;34m,\u001b[0m \u001b[0mnight_morning_28\u001b[0m\u001b[0;34m)\u001b[0m\u001b[0;34m\u001b[0m\u001b[0m\n",
      "\u001b[0;32m<ipython-input-40-bf9bdda8211a>\u001b[0m in \u001b[0;36mconcat_main_night_morning\u001b[0;34m(open_hour_df, night_morning_df)\u001b[0m\n\u001b[1;32m      2\u001b[0m \u001b[0;32mdef\u001b[0m \u001b[0mconcat_main_night_morning\u001b[0m\u001b[0;34m(\u001b[0m\u001b[0mopen_hour_df\u001b[0m\u001b[0;34m,\u001b[0m \u001b[0mnight_morning_df\u001b[0m\u001b[0;34m)\u001b[0m\u001b[0;34m:\u001b[0m\u001b[0;34m\u001b[0m\u001b[0m\n\u001b[1;32m      3\u001b[0m     \u001b[0;32mfor\u001b[0m \u001b[0mi\u001b[0m \u001b[0;32min\u001b[0m \u001b[0mrange\u001b[0m\u001b[0;34m(\u001b[0m\u001b[0;36m0\u001b[0m\u001b[0;34m,\u001b[0m\u001b[0mlen\u001b[0m\u001b[0;34m(\u001b[0m\u001b[0mlist_of_columns\u001b[0m\u001b[0;34m)\u001b[0m\u001b[0;34m)\u001b[0m\u001b[0;34m:\u001b[0m\u001b[0;34m\u001b[0m\u001b[0m\n\u001b[0;32m----> 4\u001b[0;31m         \u001b[0mopen_hour_df\u001b[0m\u001b[0;34m[\u001b[0m\u001b[0mlist_of_columns\u001b[0m\u001b[0;34m[\u001b[0m\u001b[0mi\u001b[0m\u001b[0;34m]\u001b[0m\u001b[0;34m]\u001b[0m \u001b[0;34m=\u001b[0m \u001b[0mnp\u001b[0m\u001b[0;34m.\u001b[0m\u001b[0mfull\u001b[0m\u001b[0;34m(\u001b[0m\u001b[0;34m(\u001b[0m\u001b[0mlen\u001b[0m\u001b[0;34m(\u001b[0m\u001b[0mopen_hour_df\u001b[0m\u001b[0;34m)\u001b[0m\u001b[0;34m,\u001b[0m\u001b[0;36m1\u001b[0m\u001b[0;34m)\u001b[0m\u001b[0;34m,\u001b[0m \u001b[0mnight_morning_df\u001b[0m\u001b[0;34m[\u001b[0m\u001b[0mlist_of_columns\u001b[0m\u001b[0;34m[\u001b[0m\u001b[0mi\u001b[0m\u001b[0;34m]\u001b[0m\u001b[0;34m]\u001b[0m\u001b[0;34m.\u001b[0m\u001b[0mvalues\u001b[0m\u001b[0;34m[\u001b[0m\u001b[0;36m0\u001b[0m\u001b[0;34m]\u001b[0m\u001b[0;34m)\u001b[0m\u001b[0;34m\u001b[0m\u001b[0m\n\u001b[0m",
      "\u001b[0;32m/anaconda3/lib/python3.6/site-packages/pandas/core/frame.py\u001b[0m in \u001b[0;36m__setitem__\u001b[0;34m(self, key, value)\u001b[0m\n\u001b[1;32m   3114\u001b[0m         \u001b[0;32melse\u001b[0m\u001b[0;34m:\u001b[0m\u001b[0;34m\u001b[0m\u001b[0m\n\u001b[1;32m   3115\u001b[0m             \u001b[0;31m# set column\u001b[0m\u001b[0;34m\u001b[0m\u001b[0;34m\u001b[0m\u001b[0m\n\u001b[0;32m-> 3116\u001b[0;31m             \u001b[0mself\u001b[0m\u001b[0;34m.\u001b[0m\u001b[0m_set_item\u001b[0m\u001b[0;34m(\u001b[0m\u001b[0mkey\u001b[0m\u001b[0;34m,\u001b[0m \u001b[0mvalue\u001b[0m\u001b[0;34m)\u001b[0m\u001b[0;34m\u001b[0m\u001b[0m\n\u001b[0m\u001b[1;32m   3117\u001b[0m \u001b[0;34m\u001b[0m\u001b[0m\n\u001b[1;32m   3118\u001b[0m     \u001b[0;32mdef\u001b[0m \u001b[0m_setitem_slice\u001b[0m\u001b[0;34m(\u001b[0m\u001b[0mself\u001b[0m\u001b[0;34m,\u001b[0m \u001b[0mkey\u001b[0m\u001b[0;34m,\u001b[0m \u001b[0mvalue\u001b[0m\u001b[0;34m)\u001b[0m\u001b[0;34m:\u001b[0m\u001b[0;34m\u001b[0m\u001b[0m\n",
      "\u001b[0;32m/anaconda3/lib/python3.6/site-packages/pandas/core/frame.py\u001b[0m in \u001b[0;36m_set_item\u001b[0;34m(self, key, value)\u001b[0m\n\u001b[1;32m   3190\u001b[0m         \u001b[0mself\u001b[0m\u001b[0;34m.\u001b[0m\u001b[0m_ensure_valid_index\u001b[0m\u001b[0;34m(\u001b[0m\u001b[0mvalue\u001b[0m\u001b[0;34m)\u001b[0m\u001b[0;34m\u001b[0m\u001b[0m\n\u001b[1;32m   3191\u001b[0m         \u001b[0mvalue\u001b[0m \u001b[0;34m=\u001b[0m \u001b[0mself\u001b[0m\u001b[0;34m.\u001b[0m\u001b[0m_sanitize_column\u001b[0m\u001b[0;34m(\u001b[0m\u001b[0mkey\u001b[0m\u001b[0;34m,\u001b[0m \u001b[0mvalue\u001b[0m\u001b[0;34m)\u001b[0m\u001b[0;34m\u001b[0m\u001b[0m\n\u001b[0;32m-> 3192\u001b[0;31m         \u001b[0mNDFrame\u001b[0m\u001b[0;34m.\u001b[0m\u001b[0m_set_item\u001b[0m\u001b[0;34m(\u001b[0m\u001b[0mself\u001b[0m\u001b[0;34m,\u001b[0m \u001b[0mkey\u001b[0m\u001b[0;34m,\u001b[0m \u001b[0mvalue\u001b[0m\u001b[0;34m)\u001b[0m\u001b[0;34m\u001b[0m\u001b[0m\n\u001b[0m\u001b[1;32m   3193\u001b[0m \u001b[0;34m\u001b[0m\u001b[0m\n\u001b[1;32m   3194\u001b[0m         \u001b[0;31m# check if we are modifying a copy\u001b[0m\u001b[0;34m\u001b[0m\u001b[0;34m\u001b[0m\u001b[0m\n",
      "\u001b[0;32m/anaconda3/lib/python3.6/site-packages/pandas/core/generic.py\u001b[0m in \u001b[0;36m_set_item\u001b[0;34m(self, key, value)\u001b[0m\n\u001b[1;32m   2595\u001b[0m \u001b[0;34m\u001b[0m\u001b[0m\n\u001b[1;32m   2596\u001b[0m     \u001b[0;32mdef\u001b[0m \u001b[0m_set_item\u001b[0m\u001b[0;34m(\u001b[0m\u001b[0mself\u001b[0m\u001b[0;34m,\u001b[0m \u001b[0mkey\u001b[0m\u001b[0;34m,\u001b[0m \u001b[0mvalue\u001b[0m\u001b[0;34m)\u001b[0m\u001b[0;34m:\u001b[0m\u001b[0;34m\u001b[0m\u001b[0m\n\u001b[0;32m-> 2597\u001b[0;31m         \u001b[0mself\u001b[0m\u001b[0;34m.\u001b[0m\u001b[0m_data\u001b[0m\u001b[0;34m.\u001b[0m\u001b[0mset\u001b[0m\u001b[0;34m(\u001b[0m\u001b[0mkey\u001b[0m\u001b[0;34m,\u001b[0m \u001b[0mvalue\u001b[0m\u001b[0;34m)\u001b[0m\u001b[0;34m\u001b[0m\u001b[0m\n\u001b[0m\u001b[1;32m   2598\u001b[0m         \u001b[0mself\u001b[0m\u001b[0;34m.\u001b[0m\u001b[0m_clear_item_cache\u001b[0m\u001b[0;34m(\u001b[0m\u001b[0;34m)\u001b[0m\u001b[0;34m\u001b[0m\u001b[0m\n\u001b[1;32m   2599\u001b[0m \u001b[0;34m\u001b[0m\u001b[0m\n",
      "\u001b[0;32m/anaconda3/lib/python3.6/site-packages/pandas/core/internals.py\u001b[0m in \u001b[0;36mset\u001b[0;34m(self, item, value, check)\u001b[0m\n\u001b[1;32m   4241\u001b[0m \u001b[0;34m\u001b[0m\u001b[0m\n\u001b[1;32m   4242\u001b[0m         \u001b[0;32mtry\u001b[0m\u001b[0;34m:\u001b[0m\u001b[0;34m\u001b[0m\u001b[0m\n\u001b[0;32m-> 4243\u001b[0;31m             \u001b[0mloc\u001b[0m \u001b[0;34m=\u001b[0m \u001b[0mself\u001b[0m\u001b[0;34m.\u001b[0m\u001b[0mitems\u001b[0m\u001b[0;34m.\u001b[0m\u001b[0mget_loc\u001b[0m\u001b[0;34m(\u001b[0m\u001b[0mitem\u001b[0m\u001b[0;34m)\u001b[0m\u001b[0;34m\u001b[0m\u001b[0m\n\u001b[0m\u001b[1;32m   4244\u001b[0m         \u001b[0;32mexcept\u001b[0m \u001b[0mKeyError\u001b[0m\u001b[0;34m:\u001b[0m\u001b[0;34m\u001b[0m\u001b[0m\n\u001b[1;32m   4245\u001b[0m             \u001b[0;31m# This item wasn't present, just insert at end\u001b[0m\u001b[0;34m\u001b[0m\u001b[0;34m\u001b[0m\u001b[0m\n",
      "\u001b[0;32m/anaconda3/lib/python3.6/site-packages/pandas/core/indexes/base.py\u001b[0m in \u001b[0;36mget_loc\u001b[0;34m(self, key, method, tolerance)\u001b[0m\n\u001b[1;32m   3061\u001b[0m                                  'backfill or nearest lookups')\n\u001b[1;32m   3062\u001b[0m             \u001b[0;32mtry\u001b[0m\u001b[0;34m:\u001b[0m\u001b[0;34m\u001b[0m\u001b[0m\n\u001b[0;32m-> 3063\u001b[0;31m                 \u001b[0;32mreturn\u001b[0m \u001b[0mself\u001b[0m\u001b[0;34m.\u001b[0m\u001b[0m_engine\u001b[0m\u001b[0;34m.\u001b[0m\u001b[0mget_loc\u001b[0m\u001b[0;34m(\u001b[0m\u001b[0mkey\u001b[0m\u001b[0;34m)\u001b[0m\u001b[0;34m\u001b[0m\u001b[0m\n\u001b[0m\u001b[1;32m   3064\u001b[0m             \u001b[0;32mexcept\u001b[0m \u001b[0mKeyError\u001b[0m\u001b[0;34m:\u001b[0m\u001b[0;34m\u001b[0m\u001b[0m\n\u001b[1;32m   3065\u001b[0m                 \u001b[0;32mreturn\u001b[0m \u001b[0mself\u001b[0m\u001b[0;34m.\u001b[0m\u001b[0m_engine\u001b[0m\u001b[0;34m.\u001b[0m\u001b[0mget_loc\u001b[0m\u001b[0;34m(\u001b[0m\u001b[0mself\u001b[0m\u001b[0;34m.\u001b[0m\u001b[0m_maybe_cast_indexer\u001b[0m\u001b[0;34m(\u001b[0m\u001b[0mkey\u001b[0m\u001b[0;34m)\u001b[0m\u001b[0;34m)\u001b[0m\u001b[0;34m\u001b[0m\u001b[0m\n",
      "\u001b[0;32mpandas/_libs/index.pyx\u001b[0m in \u001b[0;36mpandas._libs.index.IndexEngine.get_loc\u001b[0;34m()\u001b[0m\n",
      "\u001b[0;32mpandas/_libs/index.pyx\u001b[0m in \u001b[0;36mpandas._libs.index.IndexEngine.get_loc\u001b[0;34m()\u001b[0m\n",
      "\u001b[0;32mpandas/_libs/index.pyx\u001b[0m in \u001b[0;36mpandas._libs.index.IndexEngine._get_loc_duplicates\u001b[0;34m()\u001b[0m\n",
      "\u001b[0;32mpandas/_libs/index.pyx\u001b[0m in \u001b[0;36mpandas._libs.index.IndexEngine._maybe_get_bool_indexer\u001b[0;34m()\u001b[0m\n",
      "\u001b[0;31mTypeError\u001b[0m: Cannot convert bool to numpy.ndarray"
     ]
    }
   ],
   "source": [
    "concat_main_night_morning(open_hours_tweets_24, night_morning_24)\n",
    "concat_main_night_morning(open_hours_tweets_25, night_morning_25)\n",
    "concat_main_night_morning(open_hours_tweets_26, night_morning_26)\n",
    "concat_main_night_morning(open_hours_tweets_27, night_morning_27)\n",
    "concat_main_night_morning(open_hours_tweets_28, night_morning_28)\n",
    "concat_main_night_morning(open_hours_tweets_29, night_morning_29)"
   ]
  },
  {
   "cell_type": "code",
   "execution_count": null,
   "metadata": {},
   "outputs": [],
   "source": [
    "sonos_tweets_master = pd.concat([open_hours_tweets_24, open_hours_tweets_25, open_hours_tweets_26, open_hours_tweets_27, open_hours_tweets_28, open_hours_tweets_29])\n",
    "sonos_tweets_master.columns = ['sentiment_avg_30','coun_neg, 30', 'coun_neu, 30','coun_pos, 30', 'sentiment_avg_60', 'coun_neg, 60', 'coun_neu, 60','coun_pos, 60','sentiment_avg_120', 'coun_neg, 120', 'coun_neu, 120','coun_pos, 120', 'sentiment_night_before_avg', 'count_neg, night_before', 'count_neu, night_before', 'count_pos, night_before','sentiment_morning_avg', 'count_neg, morning', 'count_neu, morning', 'count_pos, morning']\n",
    "# take out weekend\n",
    "sonos_tweets_master = sonos_tweets_master[(sonos_tweets_master.index.day != 25) & (sonos_tweets_master.index.day != 26)]"
   ]
  },
  {
   "cell_type": "code",
   "execution_count": null,
   "metadata": {},
   "outputs": [],
   "source": [
    "# put stock and tweet data together\n",
    "fb_tweets_stocks = pd.concat([running_stocks_thirty, fb_tech_indic_df, fb_tweets_master, fb_articles_df], axis = 1)"
   ]
  }
 ],
 "metadata": {
  "kernelspec": {
   "display_name": "Python 3",
   "language": "python",
   "name": "python3"
  },
  "language_info": {
   "codemirror_mode": {
    "name": "ipython",
    "version": 3
   },
   "file_extension": ".py",
   "mimetype": "text/x-python",
   "name": "python",
   "nbconvert_exporter": "python",
   "pygments_lexer": "ipython3",
   "version": "3.6.5"
  }
 },
 "nbformat": 4,
 "nbformat_minor": 2
}
