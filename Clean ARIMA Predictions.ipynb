{
 "cells": [
  {
   "cell_type": "code",
   "execution_count": 40,
   "metadata": {},
   "outputs": [],
   "source": [
    "import warnings\n",
    "warnings.filterwarnings('ignore')\n",
    "\n",
    "import pandas as pd\n",
    "from pandas import Series\n",
    "import numpy as np\n",
    "\n",
    "import matplotlib.pylab as plt\n",
    "%matplotlib inline\n",
    "\n",
    "from matplotlib.pylab import rcParams\n",
    "rcParams['figure.figsize'] = 15, 6\n",
    "import re\n",
    "from statsmodels.tsa.stattools import adfuller\n",
    "from statsmodels.tsa.seasonal import seasonal_decompose\n",
    "from statsmodels.graphics.tsaplots import plot_acf\n",
    "from statsmodels.graphics.tsaplots import plot_pacf\n",
    "import statsmodels.api as sm\n",
    "import itertools"
   ]
  },
  {
   "cell_type": "code",
   "execution_count": 123,
   "metadata": {},
   "outputs": [
    {
     "data": {
      "text/html": [
       "<script>\n",
       "code_show=true; \n",
       "function code_toggle() {\n",
       " if (code_show){\n",
       " $('div.input').hide();\n",
       " } else {\n",
       " $('div.input').show();\n",
       " }\n",
       " code_show = !code_show\n",
       "} \n",
       "$( document ).ready(code_toggle);\n",
       "</script>\n",
       "*The raw code for this Jupyter notebook is by default hidden for easier reading.\n",
       "To toggle on/off the raw code, click <a href=\"javascript:code_toggle()\">here</a>."
      ],
      "text/plain": [
       "<IPython.core.display.HTML object>"
      ]
     },
     "execution_count": 123,
     "metadata": {},
     "output_type": "execute_result"
    }
   ],
   "source": [
    "from IPython.display import HTML\n",
    "HTML('''<script>\n",
    "code_show=true; \n",
    "function code_toggle() {\n",
    " if (code_show){\n",
    " $('div.input').hide();\n",
    " } else {\n",
    " $('div.input').show();\n",
    " }\n",
    " code_show = !code_show\n",
    "} \n",
    "$( document ).ready(code_toggle);\n",
    "</script>\n",
    "*The raw code for this Jupyter notebook is by default hidden for easier reading.\n",
    "To toggle on/off the raw code, click <a href=\"javascript:code_toggle()\">here</a>.''')"
   ]
  },
  {
   "cell_type": "code",
   "execution_count": 1,
   "metadata": {},
   "outputs": [],
   "source": [
    "import pandas as pd\n",
    "import matplotlib.pyplot as plt\n",
    "from pandas import Series\n",
    "import numpy as np\n",
    "\n",
    "import matplotlib.pylab as plt\n",
    "%matplotlib inline\n",
    "\n",
    "from matplotlib.pylab import rcParams\n",
    "rcParams['figure.figsize'] = 15, 6"
   ]
  },
  {
   "cell_type": "code",
   "execution_count": 157,
   "metadata": {},
   "outputs": [],
   "source": [
    "def get_all_predictions(dataframe):\n",
    "    pred_df = pd.DataFrame(index = index_for_df)\n",
    "    p = d = q = range(0, 2)\n",
    "    pdq = list(itertools.product(p, d, q))\n",
    "    pdqs = [(x[0], x[1], x[2], 1) for x in list(itertools.product(p, d, q))]\n",
    "    df = dataframe.drop('5. volume', axis = 1)\n",
    "    for metric in df.columns:\n",
    "        ans = []\n",
    "        for comb in pdq:\n",
    "            for combs in pdqs:\n",
    "                try:\n",
    "                    mod = sm.tsa.statespace.SARIMAX(dataframe[metric],\n",
    "                                            order=comb,\n",
    "                                            seasonal_order=combs,\n",
    "                                            enforce_stationarity=False,\n",
    "                                            enforce_invertibility=False)\n",
    "                    output = mod.fit()\n",
    "                    ans.append([comb, combs, output.aic])\n",
    "                except:\n",
    "                    continue\n",
    "        ans_df = pd.DataFrame(ans, columns=['pdq', 'pdqs', 'aic'])\n",
    "        ARIMA_MODEL = sm.tsa.statespace.SARIMAX(dataframe[metric],\n",
    "                                order=ans_df.loc[ans_df['aic'].idxmin()][0],\n",
    "                                seasonal_order=ans_df.loc[ans_df['aic'].idxmin()][1],\n",
    "                                enforce_stationarity=False,\n",
    "                                enforce_invertibility=False)\n",
    "        print(ans_df.loc[ans_df['aic'].idxmin()][0])\n",
    "        print(ans_df.loc[ans_df['aic'].idxmin()][1])\n",
    "        output = ARIMA_MODEL.fit()\n",
    "        pred = output.get_prediction(start=pd.to_datetime('2018-08-31 15:45:00'), end=pd.to_datetime('2018-08-31 14:00:00'),dynamic=False)\n",
    "        predictions = pd.DataFrame(pred.predicted_mean)\n",
    "        pred_df[metric] = predictions\n",
    "    return pred_df"
   ]
  },
  {
   "cell_type": "code",
   "execution_count": 83,
   "metadata": {},
   "outputs": [],
   "source": [
    "index_for_df = apple.index[(apple.index < '2018-08-31 15:50:00')& (apple.index > '2018-08-31 13:55:00')]"
   ]
  },
  {
   "cell_type": "code",
   "execution_count": 2,
   "metadata": {},
   "outputs": [],
   "source": [
    "import alpha_vantage\n",
    "from alpha_vantage.timeseries import TimeSeries\n",
    "stock = TimeSeries(key='1250F9WWA3Z77BIK')"
   ]
  },
  {
   "cell_type": "code",
   "execution_count": 3,
   "metadata": {},
   "outputs": [],
   "source": [
    "nflx = pd.read_csv('./csv/nflx_daily_stock.csv', index_col='Unnamed: 0')\n",
    "fb = pd.read_csv('./csv/fb_daily_stock.csv', index_col='Unnamed: 0')\n",
    "apple = pd.read_csv('./csv/apple_daily_stock.csv', index_col='Unnamed: 0')\n",
    "fb_prediction_df = pd.read_csv('./csv/fb_predictions.csv', index_col='Unnamed: 0')\n",
    "apple_prediction_df = pd.read_csv('apple_predictions.csv', index_col='Unnamed: 0')\n",
    "netflix_prediction_df = pd.read_csv('netflix_predictions.csv', index_col='Unnamed: 0')"
   ]
  },
  {
   "cell_type": "markdown",
   "metadata": {},
   "source": [
    "# Candlestick Charts 8-31-2018"
   ]
  },
  {
   "cell_type": "code",
   "execution_count": 6,
   "metadata": {},
   "outputs": [
    {
     "data": {
      "text/html": [
       "<iframe id=\"igraph\" scrolling=\"no\" style=\"border:none;\" seamless=\"seamless\" src=\"https://plot.ly/~mrethana/40.embed\" height=\"525px\" width=\"100%\"></iframe>"
      ],
      "text/plain": [
       "<plotly.tools.PlotlyDisplay object>"
      ]
     },
     "execution_count": 6,
     "metadata": {},
     "output_type": "execute_result"
    }
   ],
   "source": [
    "import plotly.plotly as py\n",
    "import plotly.graph_objs as go\n",
    "\n",
    "from datetime import datetime\n",
    "\n",
    "# ts_close = pd.DataFrame(fb['4. close'])\n",
    "# ts_close = ts_close['4. close'].astype(float)\n",
    "# rolmean = ts_close.rolling(window=6).mean()\n",
    "# orig_close = plt.plot(ts, color='blue',label='Original')\n",
    "# mean_close = plt.plot(rolmean, color='red', label='Rolling Mean')\n",
    "#     std = plt.plot(rolstd, color='black', label = 'Rolling Std')\n",
    "# plt.legend(loc='best')\n",
    "# plt.title('Rolling Mean & Standard Deviation')\n",
    "# plt.show(block=False)\n",
    "\n",
    "\n",
    "layout = {'xaxis': {'rangeslider':{'visible':False}},\n",
    "    'title': 'Facebook Stock 08-31-2018',\n",
    "    'yaxis': {'title': 'Stock Price'},'shapes': [{\n",
    "        'x0': '2018-08-31 14:00:00', 'x1': '2018-08-31 14:00:00',\n",
    "        'y0': 0, 'y1': 1, 'xref': 'x', 'yref': 'paper',\n",
    "        'line': {'color': 'rgb(30,30,30)', 'width': 1}\n",
    "    }],'annotations': [{\n",
    "        'x': '2018-08-31 14:00:00', 'y': 0.05, 'xref': 'x', 'yref': 'paper',\n",
    "        'showarrow': False, 'xanchor': 'left',\n",
    "        'text': 'Predictions Begin'\n",
    "    }]}\n",
    "\n",
    "\n",
    "trace = go.Candlestick(name = 'Price',x=nflx.index,\n",
    "                       open=fb['1. open'],\n",
    "                       high=fb['2. high'],\n",
    "                       low=fb['3. low'],\n",
    "                       close=fb['4. close'],\n",
    "                       increasing=dict(line=dict(color= 'Blue')),\n",
    "                       decreasing=dict(line=dict(color= 'Silver')))\n",
    "\n",
    "trace2 = go.Candlestick(name = 'Predicted Price',x=fb_prediction_df.index,\n",
    "                       open=fb_prediction_df.open_pred,\n",
    "                       high=fb_prediction_df.high_pred,\n",
    "                       low=fb_prediction_df.low_pred,\n",
    "                       close=fb_prediction_df.close_pred,\n",
    "                       increasing=dict(line=dict(color= 'Green')),\n",
    "                       decreasing=dict(line=dict(color= 'Red')))\n",
    "\n",
    "# trace2 = go.Scatter(name = 'Close Price MA',\n",
    "#     x = rolmean.index,\n",
    "#     y = rolmean.values, line = dict(\n",
    "#         color = ('red'), o))\n",
    "\n",
    "data = [trace, trace2]\n",
    "fig = dict(data=data, layout=layout)\n",
    "py.iplot(fig, filename='plot from API (15)')"
   ]
  },
  {
   "cell_type": "code",
   "execution_count": 130,
   "metadata": {},
   "outputs": [],
   "source": [
    "join_fb = fb[(fb.index < '2018-08-31 15:50:00') & (fb.index > '2018-08-31 13:55:00')]\n",
    "# join_fb.columns = ['actual_open', 'actual_high', 'actual_low', 'actual_close', 'actual_volume']\n",
    "# fb_join = fb_prediction_df.join(join_fb)\n",
    "# fb_join['close_difference'] = fb_join.close_pred - fb_join.actual_close\n",
    "# fb_join['open_difference'] = fb_join.open_pred - fb_join.actual_open\n",
    "# fb_join['high_difference'] = fb_join.high_pred - fb_join.actual_high\n",
    "# fb_join['low_difference'] = fb_join.low_pred - fb_join.actual_low\n",
    "# display(fb_join.close_difference.describe())\n",
    "# display(fb_join.open_difference.describe())\n",
    "# display(fb_join.high_difference.describe())\n",
    "# display(fb_join.low_difference.describe())"
   ]
  },
  {
   "cell_type": "code",
   "execution_count": 131,
   "metadata": {},
   "outputs": [],
   "source": [
    "join_fb.columns = ['actual_open', 'actual_high', 'actual_low', 'actual_close', 'actual_volume']\n",
    "fb_join = fb_prediction_df.join(join_fb)\n",
    "fb_join['close_difference'] = fb_join.close_pred - fb_join.actual_close\n",
    "fb_join['open_difference'] = fb_join.open_pred - fb_join.actual_open\n",
    "fb_join['high_difference'] = fb_join.high_pred - fb_join.actual_high\n",
    "fb_join['low_difference'] = fb_join.low_pred - fb_join.actual_low"
   ]
  },
  {
   "cell_type": "code",
   "execution_count": 137,
   "metadata": {},
   "outputs": [
    {
     "data": {
      "text/plain": [
       "count    22.000000\n",
       "mean      0.006818\n",
       "std       0.138313\n",
       "min      -0.235100\n",
       "25%      -0.083675\n",
       "50%       0.010000\n",
       "75%       0.067500\n",
       "max       0.340000\n",
       "Name: close_difference, dtype: float64"
      ]
     },
     "metadata": {},
     "output_type": "display_data"
    },
    {
     "data": {
      "text/plain": [
       "count    22.000000\n",
       "mean     -0.004545\n",
       "std       0.131522\n",
       "min      -0.220000\n",
       "25%      -0.110000\n",
       "50%       0.015000\n",
       "75%       0.047425\n",
       "max       0.300100\n",
       "Name: open_difference, dtype: float64"
      ]
     },
     "metadata": {},
     "output_type": "display_data"
    },
    {
     "data": {
      "text/plain": [
       "count    22.000000\n",
       "mean      0.012018\n",
       "std       0.137539\n",
       "min      -0.286967\n",
       "25%      -0.051162\n",
       "50%       0.009452\n",
       "75%       0.082324\n",
       "max       0.335000\n",
       "Name: high_difference, dtype: float64"
      ]
     },
     "metadata": {},
     "output_type": "display_data"
    },
    {
     "data": {
      "text/plain": [
       "count    22.000000\n",
       "mean      0.002415\n",
       "std       0.131138\n",
       "min      -0.249679\n",
       "25%      -0.060606\n",
       "50%      -0.004802\n",
       "75%       0.081127\n",
       "max       0.325198\n",
       "Name: low_difference, dtype: float64"
      ]
     },
     "metadata": {},
     "output_type": "display_data"
    }
   ],
   "source": [
    "display(fb_join.close_difference.describe())\n",
    "display(fb_join.open_difference.describe())\n",
    "display(fb_join.high_difference.describe())\n",
    "display(fb_join.low_difference.describe())"
   ]
  },
  {
   "cell_type": "code",
   "execution_count": 93,
   "metadata": {},
   "outputs": [],
   "source": [
    "apple_prediction_df = get_all_predictions(apple)"
   ]
  },
  {
   "cell_type": "code",
   "execution_count": 98,
   "metadata": {},
   "outputs": [],
   "source": [
    "apple_prediction_df.to_csv('apple_predictions.csv')"
   ]
  },
  {
   "cell_type": "code",
   "execution_count": 97,
   "metadata": {
    "scrolled": false
   },
   "outputs": [
    {
     "data": {
      "text/html": [
       "<iframe id=\"igraph\" scrolling=\"no\" style=\"border:none;\" seamless=\"seamless\" src=\"https://plot.ly/~mrethana/42.embed\" height=\"525px\" width=\"100%\"></iframe>"
      ],
      "text/plain": [
       "<plotly.tools.PlotlyDisplay object>"
      ]
     },
     "execution_count": 97,
     "metadata": {},
     "output_type": "execute_result"
    }
   ],
   "source": [
    "import plotly.plotly as py\n",
    "import plotly.graph_objs as go\n",
    "\n",
    "from datetime import datetime\n",
    "\n",
    "\n",
    "layout = {'xaxis': {'rangeslider':{'visible':False}},\n",
    "    'title': 'Apple Stock 08-31-2018',\n",
    "    'yaxis': {'title': 'Stock Price'},'shapes': [{\n",
    "        'x0': '2018-08-31 14:00:00', 'x1': '2018-08-31 14:00:00',\n",
    "        'y0': 0, 'y1': 1, 'xref': 'x', 'yref': 'paper',\n",
    "        'line': {'color': 'rgb(30,30,30)', 'width': 1}\n",
    "    }],'annotations': [{\n",
    "        'x': '2018-08-31 14:00:00', 'y': 0.05, 'xref': 'x', 'yref': 'paper',\n",
    "        'showarrow': False, 'xanchor': 'left',\n",
    "        'text': 'Predictions Begin'\n",
    "    }]}\n",
    "\n",
    "\n",
    "trace = go.Candlestick(name = 'Actual Price',x=apple.index,\n",
    "                       open=apple['1. open'],\n",
    "                       high=apple['2. high'],\n",
    "                       low=apple['3. low'],\n",
    "                       close=apple['4. close'],\n",
    "                       increasing=dict(line=dict(color= 'Black')),\n",
    "                       decreasing=dict(line=dict(color= 'Silver')))\n",
    "\n",
    "trace2 = go.Candlestick(name = 'Predicted Price',x=apple_prediction_df.index,\n",
    "                       open=apple_prediction_df['1. open'],\n",
    "                       high=apple_prediction_df['2. high'],\n",
    "                       low=apple_prediction_df['3. low'],\n",
    "                       close=apple_prediction_df['4. close'],\n",
    "                       increasing=dict(line=dict(color= 'Green')),\n",
    "                       decreasing=dict(line=dict(color= 'Red')))\n",
    "\n",
    "\n",
    "# trace2 = go.Scatter(name = 'Close Price MA',\n",
    "#     x = rolmean.index,\n",
    "#     y = rolmean.values, line = dict(\n",
    "#         color = ('red'), o))\n",
    "\n",
    "data = [trace,trace2]\n",
    "fig = dict(data=data, layout=layout)\n",
    "py.iplot(fig, filename='plot from API (16)')"
   ]
  },
  {
   "cell_type": "code",
   "execution_count": 138,
   "metadata": {},
   "outputs": [],
   "source": [
    "join_apple = apple[(apple.index < '2018-08-31 15:50:00') & (apple.index > '2018-08-31 13:55:00')]"
   ]
  },
  {
   "cell_type": "code",
   "execution_count": 143,
   "metadata": {},
   "outputs": [],
   "source": [
    "join_apple.columns = ['actual_open', 'actual_high', 'actual_low', 'actual_close', 'actual_volume']\n",
    "apple_join = apple_prediction_df.join(join_apple)\n",
    "apple_join['close_difference'] = apple_join['4. close'] - apple_join.actual_close\n",
    "apple_join['open_difference'] = apple_join['1. open'] - apple_join.actual_open\n",
    "apple_join['high_difference'] = apple_join['2. high'] - apple_join.actual_high\n",
    "apple_join['low_difference'] = apple_join['3. low'] - apple_join.actual_low"
   ]
  },
  {
   "cell_type": "code",
   "execution_count": 144,
   "metadata": {},
   "outputs": [
    {
     "data": {
      "text/plain": [
       "count    22.000000\n",
       "mean      0.013465\n",
       "std       0.194486\n",
       "min      -0.275567\n",
       "25%      -0.116620\n",
       "50%      -0.031214\n",
       "75%       0.068373\n",
       "max       0.475825\n",
       "Name: close_difference, dtype: float64"
      ]
     },
     "metadata": {},
     "output_type": "display_data"
    },
    {
     "data": {
      "text/plain": [
       "count    22.000000\n",
       "mean      0.002605\n",
       "std       0.211075\n",
       "min      -0.326030\n",
       "25%      -0.129948\n",
       "50%      -0.029738\n",
       "75%       0.072788\n",
       "max       0.492722\n",
       "Name: open_difference, dtype: float64"
      ]
     },
     "metadata": {},
     "output_type": "display_data"
    },
    {
     "data": {
      "text/plain": [
       "count    22.000000\n",
       "mean      0.004091\n",
       "std       0.158138\n",
       "min      -0.300100\n",
       "25%      -0.092425\n",
       "50%       0.004950\n",
       "75%       0.095075\n",
       "max       0.300000\n",
       "Name: high_difference, dtype: float64"
      ]
     },
     "metadata": {},
     "output_type": "display_data"
    },
    {
     "data": {
      "text/plain": [
       "count    22.000000\n",
       "mean     -0.004414\n",
       "std       0.167489\n",
       "min      -0.335100\n",
       "25%      -0.136276\n",
       "50%       0.004879\n",
       "75%       0.110213\n",
       "max       0.260603\n",
       "Name: low_difference, dtype: float64"
      ]
     },
     "metadata": {},
     "output_type": "display_data"
    }
   ],
   "source": [
    "display(apple_join.close_difference.describe())\n",
    "display(apple_join.open_difference.describe())\n",
    "display(apple_join.high_difference.describe())\n",
    "display(apple_join.low_difference.describe())"
   ]
  },
  {
   "cell_type": "code",
   "execution_count": 118,
   "metadata": {},
   "outputs": [],
   "source": [
    "netflix_prediction_df = get_all_predictions(nflx)"
   ]
  },
  {
   "cell_type": "code",
   "execution_count": 121,
   "metadata": {},
   "outputs": [],
   "source": [
    "netflix_prediction_df.to_csv('netflix_predictions.csv')"
   ]
  },
  {
   "cell_type": "code",
   "execution_count": 120,
   "metadata": {
    "scrolled": false
   },
   "outputs": [
    {
     "data": {
      "text/html": [
       "<iframe id=\"igraph\" scrolling=\"no\" style=\"border:none;\" seamless=\"seamless\" src=\"https://plot.ly/~mrethana/46.embed\" height=\"525px\" width=\"100%\"></iframe>"
      ],
      "text/plain": [
       "<plotly.tools.PlotlyDisplay object>"
      ]
     },
     "execution_count": 120,
     "metadata": {},
     "output_type": "execute_result"
    }
   ],
   "source": [
    "import plotly.plotly as py\n",
    "import plotly.graph_objs as go\n",
    "\n",
    "from datetime import datetime\n",
    "\n",
    "layout = {'xaxis': {'rangeslider':{'visible':False}},\n",
    "    'title': 'Netflix Stock 08-31-2018',\n",
    "    'yaxis': {'title': 'Stock Price'},'shapes': [{\n",
    "        'x0': '2018-08-31 14:00:00', 'x1': '2018-08-31 14:00:00',\n",
    "        'y0': 0, 'y1': 1, 'xref': 'x', 'yref': 'paper',\n",
    "        'line': {'color': 'rgb(30,30,30)', 'width': 1}\n",
    "    }],'annotations': [{\n",
    "        'x': '2018-08-31 14:00:00', 'y': 0.05, 'xref': 'x', 'yref': 'paper',\n",
    "        'showarrow': False, 'xanchor': 'left',\n",
    "        'text': 'Predictions Begin'\n",
    "    }]}\n",
    "\n",
    "trace = go.Candlestick(name = 'Actual Price',x=nflx.index,\n",
    "                       open=nflx['1. open'],\n",
    "                       high=nflx['2. high'],\n",
    "                       low=nflx['3. low'],\n",
    "                       close=nflx['4. close'],\n",
    "                       increasing=dict(line=dict(color= 'Red')),\n",
    "                       decreasing=dict(line=dict(color= 'Black')))\n",
    "\n",
    "trace2 = go.Candlestick(name = 'Predicted Price',x=netflix_prediction_df.index,\n",
    "                       open=netflix_prediction_df['1. open'],\n",
    "                       high=netflix_prediction_df['2. high'],\n",
    "                       low=netflix_prediction_df['3. low'],\n",
    "                       close=netflix_prediction_df['4. close'],\n",
    "                       increasing=dict(line=dict(color= 'Green')),\n",
    "                       decreasing=dict(line=dict(color= 'Silver')))\n",
    "\n",
    "data = [trace, trace2]\n",
    "fig = dict(data=data, layout=layout)\n",
    "py.iplot(fig, filename='plot from API (18)')"
   ]
  },
  {
   "cell_type": "code",
   "execution_count": 153,
   "metadata": {},
   "outputs": [],
   "source": [
    "# nflx = nflx.drop('interval',axis =1)\n",
    "join_nflx = nflx[(nflx.index < '2018-08-31 15:50:00') & (nflx.index > '2018-08-31 13:55:00')]\n",
    "join_nflx.columns = ['actual_open', 'actual_high', 'actual_low', 'actual_close', 'actual_volume']\n",
    "nflx_join = netflix_prediction_df.join(join_nflx)\n",
    "nflx_join['close_difference'] = nflx_join['4. close'] - nflx_join.actual_close\n",
    "nflx_join['open_difference'] = nflx_join['1. open'] - nflx_join.actual_open\n",
    "nflx_join['high_difference'] = nflx_join['2. high'] - nflx_join.actual_high\n",
    "nflx_join['low_difference'] = nflx_join['3. low'] - nflx_join.actual_low"
   ]
  },
  {
   "cell_type": "code",
   "execution_count": 155,
   "metadata": {},
   "outputs": [
    {
     "data": {
      "text/plain": [
       "count    22.000000\n",
       "mean     -0.217631\n",
       "std       0.459140\n",
       "min      -1.576706\n",
       "25%      -0.434183\n",
       "50%      -0.173279\n",
       "75%       0.015096\n",
       "max       0.454100\n",
       "Name: close_difference, dtype: float64"
      ]
     },
     "metadata": {},
     "output_type": "display_data"
    },
    {
     "data": {
      "text/plain": [
       "count    22.000000\n",
       "mean     -0.193638\n",
       "std       0.478764\n",
       "min      -1.531282\n",
       "25%      -0.390712\n",
       "50%      -0.121451\n",
       "75%       0.151308\n",
       "max       0.447062\n",
       "Name: open_difference, dtype: float64"
      ]
     },
     "metadata": {},
     "output_type": "display_data"
    },
    {
     "data": {
      "text/plain": [
       "count    22.000000\n",
       "mean     -0.097944\n",
       "std       0.405771\n",
       "min      -1.366914\n",
       "25%      -0.269099\n",
       "50%      -0.119491\n",
       "75%       0.173028\n",
       "max       0.726956\n",
       "Name: high_difference, dtype: float64"
      ]
     },
     "metadata": {},
     "output_type": "display_data"
    },
    {
     "data": {
      "text/plain": [
       "count    22.000000\n",
       "mean     -0.171364\n",
       "std       0.357031\n",
       "min      -0.943200\n",
       "25%      -0.246875\n",
       "50%      -0.140000\n",
       "75%       0.070000\n",
       "max       0.378000\n",
       "Name: low_difference, dtype: float64"
      ]
     },
     "metadata": {},
     "output_type": "display_data"
    }
   ],
   "source": [
    "display(nflx_join.close_difference.describe())\n",
    "display(nflx_join.open_difference.describe())\n",
    "display(nflx_join.high_difference.describe())\n",
    "display(nflx_join.low_difference.describe())"
   ]
  },
  {
   "cell_type": "code",
   "execution_count": null,
   "metadata": {},
   "outputs": [],
   "source": []
  }
 ],
 "metadata": {
  "kernelspec": {
   "display_name": "Python 3",
   "language": "python",
   "name": "python3"
  },
  "language_info": {
   "codemirror_mode": {
    "name": "ipython",
    "version": 3
   },
   "file_extension": ".py",
   "mimetype": "text/x-python",
   "name": "python",
   "nbconvert_exporter": "python",
   "pygments_lexer": "ipython3",
   "version": "3.6.5"
  }
 },
 "nbformat": 4,
 "nbformat_minor": 2
}
