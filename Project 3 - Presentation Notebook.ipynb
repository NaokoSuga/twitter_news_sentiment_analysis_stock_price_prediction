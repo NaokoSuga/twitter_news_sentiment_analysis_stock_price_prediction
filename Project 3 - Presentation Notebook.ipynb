{
 "cells": [
  {
   "cell_type": "markdown",
   "metadata": {},
   "source": [
    "# Stock Projection using Tweets, News Articles and Time Series"
   ]
  },
  {
   "cell_type": "markdown",
   "metadata": {},
   "source": [
    "Target Companies: Facebook, Apple, Netflix\n",
    "\n",
    "News Sources: ABC News, Business Insider, Reuters, NBC News, The New York Times, Techcrunch, Wired"
   ]
  },
  {
   "cell_type": "code",
   "execution_count": 12,
   "metadata": {},
   "outputs": [
    {
     "data": {
      "text/html": [
       "<script>\n",
       "code_show=true; \n",
       "function code_toggle() {\n",
       " if (code_show){\n",
       " $('div.input').hide();\n",
       " } else {\n",
       " $('div.input').show();\n",
       " }\n",
       " code_show = !code_show\n",
       "} \n",
       "$( document ).ready(code_toggle);\n",
       "</script>\n",
       "*The raw code for this Jupyter notebook is by default hidden for easier reading.\n",
       "To toggle on/off the raw code, click <a href=\"javascript:code_toggle()\">here</a>."
      ],
      "text/plain": [
       "<IPython.core.display.HTML object>"
      ]
     },
     "execution_count": 12,
     "metadata": {},
     "output_type": "execute_result"
    }
   ],
   "source": [
    "HTML('''<script>\n",
    "code_show=true; \n",
    "function code_toggle() {\n",
    " if (code_show){\n",
    " $('div.input').hide();\n",
    " } else {\n",
    " $('div.input').show();\n",
    " }\n",
    " code_show = !code_show\n",
    "} \n",
    "$( document ).ready(code_toggle);\n",
    "</script>\n",
    "*The raw code for this Jupyter notebook is by default hidden for easier reading.\n",
    "To toggle on/off the raw code, click <a href=\"javascript:code_toggle()\">here</a>.''')"
   ]
  },
  {
   "cell_type": "code",
   "execution_count": 13,
   "metadata": {},
   "outputs": [],
   "source": [
    "from IPython.display import HTML\n",
    "import pandas as pd\n",
    "from sklearn.linear_model import LogisticRegression\n",
    "from sklearn.model_selection import train_test_split, GridSearchCV\n",
    "from sklearn import metrics, cross_validation\n",
    "import numpy as np\n",
    "import statsmodels as sm\n",
    "import matplotlib.pyplot as plt\n",
    "import sklearn as skl\n",
    "import sklearn.preprocessing as preprocessing\n",
    "import sklearn.linear_model as linear_model\n",
    "from sklearn.metrics import roc_curve, auc\n",
    "import sklearn.tree as tree\n",
    "import seaborn as sns\n",
    "import graphviz \n",
    "from sklearn.tree import export_graphviz\n",
    "from imblearn.over_sampling import SMOTE, ADASYN\n",
    "from statsmodels.discrete.discrete_model import Logit\n",
    "from sklearn.tree import DecisionTreeClassifier\n",
    "from sklearn.ensemble import RandomForestClassifier, GradientBoostingClassifier, AdaBoostClassifier\n",
    "from sklearn.metrics import confusion_matrix\n",
    "import itertools\n",
    "from sklearn.preprocessing import StandardScaler\n",
    "from sklearn import svm\n",
    "import graphviz \n",
    "from sklearn.tree import export_graphviz\n",
    "from sklearn.model_selection import cross_val_score\n",
    "import warnings\n",
    "warnings.filterwarnings('ignore')"
   ]
  },
  {
   "cell_type": "code",
   "execution_count": 3,
   "metadata": {},
   "outputs": [],
   "source": [
    "df = pd.read_csv('csv/fb_netflix_apple.csv', index_col = 0)\n",
    "df['company'] = df['company'].map({'Facebook': 1, 'Netflix': 2, 'Apple': 3})\n",
    "df_fb = df[df['company'] ==1]\n",
    "df_nf = df[df['company'] ==2]\n",
    "df_ap = df[df['company'] ==3]\n",
    "target = df['up_down']\n",
    "X = df.loc[:, df.columns != 'up_down']\n",
    "X = X.drop(['day', 'increase_decrease','movement(%)' ], axis = 1)"
   ]
  },
  {
   "cell_type": "code",
   "execution_count": 5,
   "metadata": {},
   "outputs": [],
   "source": [
    "# normalize the data\n",
    "def normalize(column):\n",
    "    minimum = X[column].min()\n",
    "    maximum = X[column].max()\n",
    "    diff = maximum - minimum\n",
    "    norm = (X[column] - minimum) / diff\n",
    "    return norm\n",
    "\n",
    "for column in list(X.columns):\n",
    "    X[column] = normalize(column)\n",
    "target = target.fillna(0)\n",
    "X = X.fillna(0)"
   ]
  },
  {
   "cell_type": "code",
   "execution_count": 6,
   "metadata": {},
   "outputs": [],
   "source": [
    "# tuning the weight using SMOTE\n",
    "# print(target.value_counts())\n",
    "X_resampled, y_resampled = SMOTE().fit_sample(X, target) \n",
    "# print(pd.Series(y_resampled).value_counts()) #Preview synthetic sample class distribution"
   ]
  },
  {
   "cell_type": "code",
   "execution_count": 7,
   "metadata": {},
   "outputs": [
    {
     "name": "stdout",
     "output_type": "stream",
     "text": [
      "train set accuracy: 0.7983870967741935\n"
     ]
    },
    {
     "data": {
      "image/png": "[encoded data removed]",
      "text/plain": [
       "<Figure size 432x288 with 2 Axes>"
      ]
     },
     "metadata": {},
     "output_type": "display_data"
    },
    {
     "name": "stdout",
     "output_type": "stream",
     "text": [
      "test set accuracy: 0.6190476190476191\n"
     ]
    },
    {
     "data": {
      "image/png": "[encoded data removed]",
      "text/plain": [
       "<Figure size 432x288 with 2 Axes>"
      ]
     },
     "metadata": {},
     "output_type": "display_data"
    },
    {
     "name": "stdout",
     "output_type": "stream",
     "text": [
      "             precision    recall  f1-score   support\n",
      "\n",
      "          0       0.61      0.67      0.64        21\n",
      "          1       0.63      0.57      0.60        21\n",
      "\n",
      "avg / total       0.62      0.62      0.62        42\n",
      "\n",
      "0.5783132530120482\n",
      "             precision    recall  f1-score   support\n",
      "\n",
      "          0       0.64      0.57      0.60        93\n",
      "          1       0.52      0.59      0.55        73\n",
      "\n",
      "avg / total       0.59      0.58      0.58       166\n",
      "\n"
     ]
    }
   ],
   "source": [
    "def plot_confusion_matrix(cm, classes,\n",
    "                          title='Confusion matrix',\n",
    "                          cmap=plt.cm.Blues):\n",
    "\n",
    "    plt.imshow(cm,  cmap) #Create the basic matrix.\n",
    "    #Add title and Axis Labels\n",
    "    plt.title(title)\n",
    "    plt.ylabel('Actual')\n",
    "    plt.xlabel('Predicted')\n",
    "\n",
    "    class_names = set(classes) #Get class labels to add to matrix\n",
    "    tick_marks = np.arange(len(class_names))\n",
    "    plt.xticks(tick_marks, class_names, rotation=45)\n",
    "    plt.yticks(tick_marks, class_names)\n",
    "\n",
    "    thresh = cm.max() / 2. #Used for text coloring below\n",
    "    #Here we iterate through the confusion matrix and append labels to our visualization.\n",
    "    for i, j in itertools.product(range(cm.shape[0]), range(cm.shape[1])):\n",
    "            plt.text(j, i, cm[i, j],\n",
    "                     horizontalalignment=\"center\",\n",
    "                     color=\"white\" if cm[i, j] > thresh else \"black\")\n",
    "\n",
    "    #Add a Side Bar Legend Showing Colors\n",
    "    plt.colorbar()\n",
    "    plt.show()\n",
    "    \n",
    "def test_set(X, Y) :\n",
    "    data_train, data_test, target_train, target_test = train_test_split(X, Y)\n",
    "    logreg = LogisticRegression()\n",
    "    logreg.fit(data_train, target_train)\n",
    "    predict_train = logreg.predict(data_train)\n",
    "    predict_test = logreg.predict(data_test)\n",
    "    cnf_matrix_train = confusion_matrix(predict_train, target_train)\n",
    "    cnf_matrix_test = confusion_matrix(predict_test, target_test)\n",
    "    print('train set accuracy: ' + str(metrics.accuracy_score(predict_train, target_train)))\n",
    "    plot_confusion_matrix(cnf_matrix_train, classes = set(y_resampled))\n",
    "    print('test set accuracy: ' + str(metrics.accuracy_score(predict_test, target_test)))\n",
    "    plot_confusion_matrix(cnf_matrix_test, classes = set(y_resampled))\n",
    "    print(metrics.classification_report(predict_test, target_test))\n",
    "    \n",
    "test_set(X_resampled, y_resampled)\n",
    "\n",
    "## cross validation\n",
    "def k_fold(X, Y, cv = 3):\n",
    "    predicted = cross_validation.cross_val_predict(LogisticRegression(), X, Y, cv=cv)\n",
    "    print(metrics.accuracy_score(predicted.reshape((predicted.shape[0],1)), np.array(Y).reshape((Y.shape[0],1))))\n",
    "    print(metrics.classification_report(predicted.reshape((predicted.shape[0],1)), np.array(Y).reshape((Y.shape[0],1))))\n",
    "\n",
    "k_fold(X_resampled, y_resampled, cv = 10)"
   ]
  },
  {
   "cell_type": "code",
   "execution_count": 8,
   "metadata": {},
   "outputs": [
    {
     "name": "stdout",
     "output_type": "stream",
     "text": [
      "AUC for L1: 0.5354691075514875\n",
      "AUC for L2: 0.5377574370709381\n"
     ]
    },
    {
     "data": {
      "image/png": "[encoded data removed]",
      "text/plain": [
       "<Figure size 720x576 with 1 Axes>"
      ]
     },
     "metadata": {},
     "output_type": "display_data"
    }
   ],
   "source": [
    "# LASSO Ridge\n",
    "penalties = ['l1', 'l2']\n",
    "colors = ['r', 'orange']\n",
    "\n",
    "plt.figure(figsize=(10,8))\n",
    "\n",
    "data_train, data_test, target_train, target_test = train_test_split(X_resampled, y_resampled)\n",
    "area = []\n",
    "for n, pen in enumerate(penalties):\n",
    "    #Fit a model\n",
    "    logreg = LogisticRegression(fit_intercept = False, C = 1e12, penalty=pen) #Starter code\n",
    "    model_log = logreg.fit(data_train, target_train)\n",
    "#     print(model_log) #Preview model params\n",
    "\n",
    "    #Predict\n",
    "    y_hat_test = logreg.predict(data_test)\n",
    "\n",
    "    y_score = logreg.fit(data_train, target_train).decision_function(data_test)\n",
    "\n",
    "    fpr, tpr, thresholds = roc_curve(target_test, y_score)\n",
    "    \n",
    "    print('AUC for {}: {}'.format(str(pen.upper()), auc(fpr, tpr)))\n",
    "    lw = 2\n",
    "    plt.plot(fpr, tpr, color=colors[n],\n",
    "             lw=lw, label='ROC curve {}'.format(pen))\n",
    "    area.append(auc(fpr, tpr))\n",
    "    \n",
    "plt.plot([0, 1], [0, 1], color='navy', lw=lw, linestyle='--')\n",
    "plt.xlim([0.0, 1.0])\n",
    "plt.ylim([0.0, 1.05])\n",
    "\n",
    "plt.yticks([i/20.0 for i in range(21)])\n",
    "plt.xticks([i/20.0 for i in range(21)])\n",
    "plt.xlabel('False Positive Rate')\n",
    "plt.ylabel('True Positive Rate')\n",
    "plt.title('Receiver operating characteristic (ROC) Curve')\n",
    "plt.legend(loc=\"lower right\")\n",
    "plt.show()"
   ]
  },
  {
   "cell_type": "code",
   "execution_count": 11,
   "metadata": {},
   "outputs": [
    {
     "ename": "NameError",
     "evalue": "name 'X_tweets_new' is not defined",
     "output_type": "error",
     "traceback": [
      "\u001b[0;31m---------------------------------------------------------------------------\u001b[0m",
      "\u001b[0;31mNameError\u001b[0m                                 Traceback (most recent call last)",
      "\u001b[0;32m<ipython-input-11-8af4c6439293>\u001b[0m in \u001b[0;36m<module>\u001b[0;34m()\u001b[0m\n\u001b[1;32m     19\u001b[0m \u001b[0;34m\u001b[0m\u001b[0m\n\u001b[1;32m     20\u001b[0m \u001b[0;31m# Twitter heatmap\u001b[0m\u001b[0;34m\u001b[0m\u001b[0;34m\u001b[0m\u001b[0m\n\u001b[0;32m---> 21\u001b[0;31m \u001b[0mtwitter_heatmap\u001b[0m \u001b[0;34m=\u001b[0m \u001b[0mpd\u001b[0m\u001b[0;34m.\u001b[0m\u001b[0mconcat\u001b[0m\u001b[0;34m(\u001b[0m\u001b[0;34m[\u001b[0m\u001b[0mX_tweets_new\u001b[0m\u001b[0;34m,\u001b[0m \u001b[0mdf\u001b[0m\u001b[0;34m[\u001b[0m\u001b[0;34m'up_down'\u001b[0m\u001b[0;34m]\u001b[0m\u001b[0;34m]\u001b[0m\u001b[0;34m,\u001b[0m \u001b[0maxis\u001b[0m \u001b[0;34m=\u001b[0m\u001b[0;36m1\u001b[0m\u001b[0;34m)\u001b[0m\u001b[0;34m\u001b[0m\u001b[0m\n\u001b[0m\u001b[1;32m     22\u001b[0m \u001b[0mcorrelation_heatmap\u001b[0m\u001b[0;34m(\u001b[0m\u001b[0mtwitter_heatmap\u001b[0m\u001b[0;34m,\u001b[0m \u001b[0mtitle\u001b[0m \u001b[0;34m=\u001b[0m \u001b[0;34m'Heatmap - Tweets vs. Stock Price'\u001b[0m\u001b[0;34m)\u001b[0m\u001b[0;34m\u001b[0m\u001b[0m\n\u001b[1;32m     23\u001b[0m \u001b[0;34m\u001b[0m\u001b[0m\n",
      "\u001b[0;31mNameError\u001b[0m: name 'X_tweets_new' is not defined"
     ]
    }
   ],
   "source": [
    "def correlation_heatmap(df, title = 'heatmap'):\n",
    "    sns.set(style=\"white\")\n",
    "    # Compute the correlation matrix\n",
    "    corr = []\n",
    "    for column in list(df.columns):\n",
    "        correlation = df['up_down'].corr(df[column])\n",
    "        corr.append(correlation)\n",
    "    corrs = pd.Series(corr).to_frame().transpose()\n",
    "    corrs.columns = df.columns\n",
    "    corrs = corrs.set_index('up_down')\n",
    "    f, ax = plt.subplots(figsize=(18, 3))\n",
    "    # Generate a custom diverging colormap\n",
    "    cmap = sns.diverging_palette(220, 10, as_cmap=True)\n",
    "    # Draw the heatmap with the mask and correct aspect ratio\n",
    "    ax = plt.axes()\n",
    "    sns.heatmap(corrs,cmap=cmap,vmax=.3, center=0,square=True, linewidths=.5, cbar_kws={\"shrink\": .5}, ax = ax)\n",
    "    ax.set_title(title)\n",
    "    plt.show()\n",
    "    \n",
    "# Twitter heatmap\n",
    "twitter_heatmap = pd.concat([X_tweets_new, df['up_down']], axis =1)\n",
    "correlation_heatmap(twitter_heatmap, title = 'Heatmap - Tweets vs. Stock Price')\n",
    "\n",
    "# all news heatmap\n",
    "X_news = X.loc[:, 'day compound avg':]\n",
    "X_news = X_news.drop(['company'], axis = 1)\n",
    "news_heabtmap = pd.concat([X_news, df['up_down']], axis =1)\n",
    "correlation_heatmap(news_heabtmap, title = 'Heatmap - News Articles vs. Stock Price')\n",
    "\n",
    "X_tweets = X.loc[:,'sentiment_avg_30':'count_pos, morning']\n",
    "X_tweets_new = X_tweets\n",
    "X_tweets_new[\"total_count_30\"] = X_tweets_new['coun_neg, 30'] + X_tweets_new['coun_neu, 30'] + X_tweets_new['coun_pos, 30']\n",
    "X_tweets_new[\"total_count_60\"] = X_tweets_new['coun_neg, 60'] + X_tweets_new['coun_neu, 60'] + X_tweets_new['coun_pos, 60']\n",
    "X_tweets_new[\"total_count_120\"] = X_tweets_new['coun_neg, 120'] + X_tweets_new['coun_neu, 120'] + X_tweets_new['coun_pos, 120']\n",
    "X_tweets_new[\"total_count_night_before\"] = X_tweets_new['count_neg, night_before'] + X_tweets_new['count_neu, night_before'] + X_tweets_new['count_pos, night_before']\n",
    "X_tweets_new[\"total_count_morning\"] = X_tweets_new['count_neg, morning'] + X_tweets_new['count_neu, morning'] + X_tweets_new['count_pos, morning']\n",
    "\n",
    "X_tweets_new = X_tweets_new.drop(['coun_neg, 30', 'coun_neu, 30', 'coun_pos, 30', 'coun_neg, 60', 'coun_neu, 60', \n",
    "                                  'coun_pos, 60', 'coun_neg, 120', 'coun_neu, 120', 'coun_pos, 120', 'count_neg, night_before', \n",
    "                                  'count_neu, night_before', 'count_pos, night_before','count_neg, morning','count_neu, morning', 'count_pos, morning'], axis =1)\n",
    "\n",
    "compound_list = [source for source in X_news.columns if 'compound' in source]\n",
    "compound_news = X_news[compound_list]\n",
    "compound_news = compound_news[['day compound avg',\n",
    "                         'two day compound avg',\n",
    "                         'one day the-new-york-times compound avg',\n",
    "                         'two day the-new-york-times compound avg',\n",
    "                         'one day reuters compound avg',\n",
    "                         'two day reuters compound avg',\n",
    "                         'one day business-insider compound avg',\n",
    "                         'two day business-insider compound avg',\n",
    "                         'one day techcrunch compound avg',\n",
    "                         'two day techcrunch compound avg',\n",
    "                         'one day wired compound avg',\n",
    "                         'two day wired compound avg',\n",
    "                         'one day nbc-news compound avg',\n",
    "                         'two day nbc-news compound avg',\n",
    "                         'one day abc-news compound avg',\n",
    "                         'two day abc-news compound avg',\n",
    "                         ]]\n",
    "news_compound_heabtmap = pd.concat([compound_news, df['up_down']], axis =1)\n",
    "correlation_heatmap(news_compound_heabtmap, title = 'Heatmap - News Articles by Sources vs. Stock Price')"
   ]
  },
  {
   "cell_type": "code",
   "execution_count": null,
   "metadata": {},
   "outputs": [],
   "source": []
  }
 ],
 "metadata": {
  "kernelspec": {
   "display_name": "Python 3",
   "language": "python",
   "name": "python3"
  },
  "language_info": {
   "codemirror_mode": {
    "name": "ipython",
    "version": 3
   },
   "file_extension": ".py",
   "mimetype": "text/x-python",
   "name": "python",
   "nbconvert_exporter": "python",
   "pygments_lexer": "ipython3",
   "version": "3.6.5"
  }
 },
 "nbformat": 4,
 "nbformat_minor": 2
}
